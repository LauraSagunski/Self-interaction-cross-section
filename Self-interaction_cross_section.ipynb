{
 "cells": [
  {
   "cell_type": "markdown",
   "metadata": {},
   "source": [
    "# Packages"
   ]
  },
  {
   "cell_type": "code",
   "execution_count": 197,
   "metadata": {},
   "outputs": [],
   "source": [
    "import numpy as np\n",
    "import pandas as pd #for loading csv Excel files\n",
    "import itertools #to merge lists\n",
    "from scipy.interpolate import interp1d\n",
    "import matplotlib.pyplot as pl #for plots\n",
    "from matplotlib import rc, rcParams"
   ]
  },
  {
   "cell_type": "markdown",
   "metadata": {},
   "source": [
    "# Options for plotting"
   ]
  },
  {
   "cell_type": "code",
   "execution_count": 198,
   "metadata": {},
   "outputs": [],
   "source": [
    "fontsize=26\n",
    "legendfontsize=22\n",
    "font = {'size' : fontsize}\n",
    "rc('font',**font)\n",
    "rc('text', usetex=True)\n",
    "rc('font', family='serif', serif='Computer Modern Roman')"
   ]
  },
  {
   "cell_type": "code",
   "execution_count": 199,
   "metadata": {},
   "outputs": [],
   "source": [
    "#Color palette accessible to colorblind people (see https://davidmathlogic.com/colorblind/)\n",
    "lightblue='#1A85FF'\n",
    "blue='#005AB5'\n",
    "darkblue='#222255'\n",
    "purple='#5D3A9B'\n",
    "magenta='#AA4499'\n",
    "red='#DC3220'\n",
    "orange='#E66100'\n",
    "yellow='#FFC20A'\n",
    "green='#40B0A6'\n",
    "\n",
    "colors=[lightblue,blue,darkblue,purple,magenta,red,orange,yellow,green]"
   ]
  },
  {
   "cell_type": "markdown",
   "metadata": {},
   "source": [
    "# Constants"
   ]
  },
  {
   "cell_type": "code",
   "execution_count": 177,
   "metadata": {},
   "outputs": [],
   "source": [
    "c=2.99792458*10.**8.*10.**(-3.) #km/s (not m/s)\n",
    "GeV_to_cmminus1=5.06*10.**13.\n",
    "GeV_to_g=1.78*10.**(-24.)"
   ]
  },
  {
   "cell_type": "markdown",
   "metadata": {},
   "source": [
    "# Data dark photon model"
   ]
  },
  {
   "cell_type": "code",
   "execution_count": 8,
   "metadata": {},
   "outputs": [
    {
     "name": "stdout",
     "output_type": "stream",
     "text": [
      "1001\n"
     ]
    }
   ],
   "source": [
    "potentials=['attractive','repulsive'] \n",
    "datadarkphotonmodel=np.array([pd.read_csv('DataDarkPhotonModel/crosssec_'+str(potential)+'.csv',header=-1).values for potential in potentials]) #header=-1 needed to load da a from first line.\n",
    "avals=np.array(datadarkphotonmodel[0][:,0]) #Same avals for both potentials.\n",
    "#print(avals) \n",
    "uniqueavals=np.unique(avals)\n",
    "#print(uniqueavals)\n",
    "bvals=np.array(datadarkphotonmodel[0][:,1]) #Same bvals for both potentials.\n",
    "#print(bvals) \n",
    "uniquebvals=np.unique(bvals)\n",
    "#print(uniquebvals)\n",
    "print(len(uniquebvals))\n",
    "cvals=[datadarkphotonmodel[i][:,2] for i in range(0,len(datadarkphotonmodel))]\n",
    "#print(cvals) "
   ]
  },
  {
   "cell_type": "markdown",
   "metadata": {},
   "source": [
    "# Generate 2D interpolation function c(a,b)"
   ]
  },
  {
   "cell_type": "code",
   "execution_count": 190,
   "metadata": {},
   "outputs": [],
   "source": [
    "#_____Extract lines in data dark photon model with same bvals (repeat each other)_____\n",
    "ibvals=np.array([list(itertools.chain.from_iterable(np.argwhere(bvals==uniquebvals[i]))) for i in range(0,len(uniquebvals))])\n",
    "#print(ibvals[0])\n",
    "#_____For fixed b interpolate in terms of a: c(a)_____\n",
    "###Note: Small, negligible differences between linear and cubic interpolation function. Interpolation function might break down when extrapolating to values far outside the range of [a,b]. \n",
    "#caint=np.array([[interp1d([avals[k] for k in ibvals[j]],[cvals[i][k] for k in ibvals[j]],kind='linear') for j in range(0,len(ibvals))] for i in range(0,len(potentials))])\n",
    "caint=np.array([[interp1d([avals[k] for k in ibvals[j]],[cvals[i][k] for k in ibvals[j]],kind='cubic',fill_value='extrapolate') for j in range(0,len(ibvals))] for i in range(0,len(potentials))])\n",
    "#print(caint)"
   ]
  },
  {
   "cell_type": "code",
   "execution_count": 162,
   "metadata": {},
   "outputs": [
    {
     "name": "stdout",
     "output_type": "stream",
     "text": [
      "[1e-05, 0.1, array(1.10814e-14)]\n",
      "[1.05925e-05, 0.1, array(1.24335e-14)]\n",
      "[1e-10, 0.1, array(-5.79385703e-16)]\n"
     ]
    }
   ],
   "source": [
    "#_____2D interpolation function c(a,b)_____\n",
    "def cab(potential,a,b):\n",
    "    if potential=='attractive':\n",
    "        caInt=caint[0]\n",
    "    elif potential=='repulsive':\n",
    "        caInt=caint[1]\n",
    "    #_____Evaluate all interpolation functions c(b) at b and interpolate in terms of a: c(a,b)_____\n",
    "    cavals=[caInt[i](a) for i in range(0,len(caInt))]\n",
    "    cab=interp1d(uniquebvals,cavals,kind='cubic',fill_value='extrapolate')(b) #,kind='cubic',fill_value='extrapolate'\n",
    "    return cab\n",
    "    \n",
    "for potential in ['attractive']: #['attractive','repulsive']:\n",
    "    for b in [0.1]: #[0.1,10.,100.,1000.,10000.]\n",
    "        for a in [avals[0],avals[1],10**(-10.)]:\n",
    "            print([a,b,cab(potential,a,b)])"
   ]
  },
  {
   "cell_type": "markdown",
   "metadata": {},
   "source": [
    "# sigmaT(v)"
   ]
  },
  {
   "cell_type": "code",
   "execution_count": 214,
   "metadata": {},
   "outputs": [
    {
     "name": "stdout",
     "output_type": "stream",
     "text": [
      "sigmaT [cm^2]=5.269668738050891e-20\n",
      "sigmaT/m [cm^2/g]=148.02440275423854\n",
      "sigmaT*m [(cm^2/g) GeV^3]=1184195222.0339084\n"
     ]
    }
   ],
   "source": [
    "def sigmaT(potential,alphaX,mX,mphi,v):\n",
    "    a=(1/(2.*alphaX))*(v/c) #Divide by c to make a dimensionless. Ok.\n",
    "    b=alphaX*(mX/mphi)\n",
    "    #print('[a,b]='+str([a,b]))\n",
    "    sigmaT=(16.*np.pi*cab(potential,a,b))/((mX*GeV_to_cmminus1)**2.*(v**2/c**2.)) #cm**2\n",
    "    return sigmaT\n",
    "\n",
    "def sigmaT_over_m(potential,alphaX,mX,mphi,v):\n",
    "    sigmaT_over_m=sigmaT(potential,alphaX,mX,mphi,v)/(mX*GeV_to_g) #cm**2/g\n",
    "    return sigmaT_over_m\n",
    "\n",
    "def sigmaT_times_m2(potential,alphaX,mX,mphi,v):\n",
    "    sigmaT_times_m2=sigmaT_over_m(potential,alphaX,mX,mphi,v)*mX**3. #cm**2/g*GeV**3.\n",
    "    return sigmaT_times_m2\n",
    "\n",
    "for potential in ['attractive']: #['attractive','repulsive']:\n",
    "    for alphaX in [10.**(-2.)]:\n",
    "        for mX in [200]: #GeV\n",
    "            for mphi in [10**(-3.)]: #GeV.\n",
    "                for v in [1000]: #km/s\n",
    "                    print('sigmaT [cm^2]='+str(sigmaT(potential,alphaX,mX,mphi,v)))\n",
    "                    print('sigmaT/m [cm^2/g]='+str(sigmaT_over_m(potential,alphaX,mX,mphi,v)))\n",
    "                    print('sigmaT*m [(cm^2/g) GeV^3]='+str(sigmaT_times_m2(potential,alphaX,mX,mphi,v)))"
   ]
  },
  {
   "cell_type": "code",
   "execution_count": 222,
   "metadata": {
    "scrolled": false
   },
   "outputs": [
    {
     "data": {
      "image/png": "[encoded data removed]",
      "text/plain": [
       "<Figure size 576x432 with 1 Axes>"
      ]
     },
     "metadata": {
      "needs_background": "light"
     },
     "output_type": "display_data"
    }
   ],
   "source": [
    "potential='attractive' #['attractive','repulsive']:\n",
    "alphaX=10.**(-2.)\n",
    "mX=200 #GeV\n",
    "mphi=10**(-3.) #GeV.\n",
    "\n",
    "pl.figure(figsize=(8,6))\n",
    "for b in [1.00,1.53,1.68,3.13,4.52]:\n",
    "    mphi=(alphaX*mX)/b\n",
    "    #print(mphi)\n",
    "    vvals=np.logspace(np.log10(1.),np.log10(10.**4.),50)\n",
    "    sigmavals=[sigmaT_times_m2(potential,alphaX,mX,mphi,v) for v in vvals]\n",
    "    pl.plot(vvals,sigmavals,label=str(b))\n",
    "\n",
    "pl.xscale('log')\n",
    "pl.yscale('log')\n",
    "pl.xlim([1,10.**4.])\n",
    "pl.ylim([0.1,10.**9.])\n",
    "pl.xlabel(r'$v\\;{\\rm (km/s)}$',fontsize=fontsize) \n",
    "pl.ylabel(r'$\\sigma_T \\, m_{\\chi}^{2}\\;{\\rm (cm^{2}\\,g^{-1}\\,GeV^{3})}$',fontsize=fontsize) \n",
    "pl.legend(title=r'$b$',loc='upper right',edgecolor='white',fontsize=legendfontsize)\n",
    "pl.show() #Ok. In accordance with Fig. 3 in Sean's paper 1302.3898."
   ]
  },
  {
   "cell_type": "code",
   "execution_count": null,
   "metadata": {},
   "outputs": [],
   "source": []
  }
 ],
 "metadata": {
  "kernelspec": {
   "display_name": "Python 2",
   "language": "python",
   "name": "python2"
  },
  "language_info": {
   "codemirror_mode": {
    "name": "ipython",
    "version": 2
   },
   "file_extension": ".py",
   "mimetype": "text/x-python",
   "name": "python",
   "nbconvert_exporter": "python",
   "pygments_lexer": "ipython2",
   "version": "2.7.16"
  }
 },
 "nbformat": 4,
 "nbformat_minor": 2
}
