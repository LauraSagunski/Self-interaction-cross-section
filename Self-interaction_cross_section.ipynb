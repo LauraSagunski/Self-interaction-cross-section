{
 "cells": [
  {
   "cell_type": "markdown",
   "metadata": {},
   "source": [
    "# Packages"
   ]
  },
  {
   "cell_type": "code",
   "execution_count": 6,
   "metadata": {},
   "outputs": [],
   "source": [
    "import numpy as np\n",
    "import pandas as pd #for loading csv Excel files\n",
    "import itertools #to merge lists\n",
    "from scipy.interpolate import interp1d,interp2d,CubicSpline,UnivariateSpline,RectBivariateSpline\n",
    "import matplotlib.pyplot as pl #for plots"
   ]
  },
  {
   "cell_type": "markdown",
   "metadata": {},
   "source": [
    "# Constants"
   ]
  },
  {
   "cell_type": "code",
   "execution_count": 54,
   "metadata": {},
   "outputs": [
    {
     "name": "stdout",
     "output_type": "stream",
     "text": [
      "1.05457172534e-34\n"
     ]
    }
   ],
   "source": [
    "c_ms=2.99792458*10.**8. #m/s\n",
    "eV_to_J=1.602176634*10.**(-19.) #J=kg*(m**2/s)\n",
    "eVc2_to_kg=eV_to_J/c_ms**2.\n",
    "#print(eVc2_to_kg)\n",
    "h_Js=6.62606957*10.**(-34.) #J*s=(kg*m**2)/s\n",
    "hbar_Js=h_Js/(2.*np.pi) #J*s=(kg*m**2)/s\n",
    "#hbar_Js=1.054571817*10.**(-34.) #J*s=(kg*m**2)/s\n",
    "#print(hbar_Js)"
   ]
  },
  {
   "cell_type": "markdown",
   "metadata": {},
   "source": [
    "# Data dark photon model"
   ]
  },
  {
   "cell_type": "code",
   "execution_count": 8,
   "metadata": {},
   "outputs": [
    {
     "name": "stdout",
     "output_type": "stream",
     "text": [
      "1001\n"
     ]
    }
   ],
   "source": [
    "potentials=['attractive','repulsive'] \n",
    "datadarkphotonmodel=np.array([pd.read_csv('DataDarkPhotonModel/crosssec_'+str(potential)+'.csv',header=-1).values for potential in potentials]) #header=-1 needed to load da a from first line.\n",
    "avals=np.array(datadarkphotonmodel[0][:,0]) #Same avals for both potentials.\n",
    "#print(avals) \n",
    "uniqueavals=np.unique(avals)\n",
    "#print(uniqueavals)\n",
    "bvals=np.array(datadarkphotonmodel[0][:,1]) #Same bvals for both potentials.\n",
    "#print(bvals) \n",
    "uniquebvals=np.unique(bvals)\n",
    "#print(uniquebvals)\n",
    "print(len(uniquebvals))\n",
    "cvals=[datadarkphotonmodel[i][:,2] for i in range(0,len(datadarkphotonmodel))]\n",
    "#print(cvals) "
   ]
  },
  {
   "cell_type": "markdown",
   "metadata": {},
   "source": [
    "# Generate 2D interpolation function c(a,b)"
   ]
  },
  {
   "cell_type": "code",
   "execution_count": 161,
   "metadata": {},
   "outputs": [],
   "source": [
    "#_____Extract lines in data dark photon model with same bvals (repeat each other)_____\n",
    "ibvals=np.array([list(itertools.chain.from_iterable(np.argwhere(bvals==uniquebvals[i]))) for i in range(0,len(uniquebvals))])\n",
    "#print(ibvals[0])\n",
    "#_____For fixed b interpolate in terms of a: c(a)_____\n",
    "#caint=np.array([[interp1d([avals[k] for k in ibvals[j]],[cvals[i][k] for k in ibvals[j]],kind='cubic',fill_value='extrapolate') for j in range(0,len(ibvals))] for i in range(0,len(potentials))])\n",
    "caint=np.array([[interp1d([avals[k] for k in ibvals[j]],[cvals[i][k] for k in ibvals[j]],kind='cubic',fill_value='extrapolate') for j in range(0,len(ibvals))] for i in range(0,len(potentials))])\n",
    "#print(caint)"
   ]
  },
  {
   "cell_type": "code",
   "execution_count": 162,
   "metadata": {},
   "outputs": [
    {
     "name": "stdout",
     "output_type": "stream",
     "text": [
      "[1e-05, 0.1, array(1.10814e-14)]\n",
      "[1.05925e-05, 0.1, array(1.24335e-14)]\n",
      "[1e-10, 0.1, array(-5.79385703e-16)]\n"
     ]
    }
   ],
   "source": [
    "#_____2D interpolation function c(a,b)_____\n",
    "def cab(potential,a,b):\n",
    "    if potential=='attractive':\n",
    "        caInt=caint[0]\n",
    "    elif potential=='repulsive':\n",
    "        caInt=caint[1]\n",
    "    #_____Evaluate all interpolation functions c(b) at b and interpolate in terms of a: c(a,b)_____\n",
    "    cavals=[caInt[i](a) for i in range(0,len(caInt))]\n",
    "    cab=interp1d(uniquebvals,cavals,kind='cubic',fill_value='extrapolate')(b) #,kind='cubic',fill_value='extrapolate'\n",
    "    return cab\n",
    "    \n",
    "for potential in ['attractive']: #['attractive','repulsive']:\n",
    "    for b in [0.1]: #[0.1,10.,100.,1000.,10000.]\n",
    "        for a in [avals[0],avals[1],10**(-10.)]:\n",
    "            print([a,b,cab(potential,a,b)])"
   ]
  },
  {
   "cell_type": "markdown",
   "metadata": {},
   "source": [
    "# sigmaT(v)"
   ]
  },
  {
   "cell_type": "code",
   "execution_count": 114,
   "metadata": {},
   "outputs": [
    {
     "data": {
      "text/plain": [
       "299792458.0"
      ]
     },
     "execution_count": 114,
     "metadata": {},
     "output_type": "execute_result"
    }
   ],
   "source": [
    "c_ms"
   ]
  },
  {
   "cell_type": "code",
   "execution_count": 152,
   "metadata": {},
   "outputs": [
    {
     "name": "stdout",
     "output_type": "stream",
     "text": [
      "[a,b]=[0.0016678204759907602, 4.52]\n",
      "4.878655477746706\n"
     ]
    }
   ],
   "source": [
    "def sigmaT(potential,alphaX,mX,mphi,v):\n",
    "    a=(1/(2.*alphaX))*(v/(c_ms*10.**(-3.))) #Divide by c to make a dimensionless. Ok.\n",
    "    b=alphaX*(mX/mphi)\n",
    "    b=4.52\n",
    "    print('[a,b]='+str([a,b]))\n",
    "    sigmaT=(16.*np.pi*cab(potential,a,b))/(mX**2.*(v**2/(c_ms*10.**(-3.))**2.))\n",
    "    sigmaT_cm2=sigmaT/(5.05*10.**(13.))**2.\n",
    "    sigmaTm_cm2g=sigmaT_cm2/(mX*1.78*10**(-24.))\n",
    "    sigmaTm2=sigmaTm_cm2g*mX**3.\n",
    "    return sigmaTm2\n",
    "\n",
    "for potential in ['attractive']: #['attractive','repulsive']:\n",
    "    for alphaX in [10.**(-2.)]:\n",
    "        for mX in [200]: #GeV\n",
    "            for mphi in [10**(-3.)]: #GeV.\n",
    "                for v in [10]: #km/s\n",
    "                    print(sigmaT(potential,alphaX,mX,mphi,v)) #Ok. In accordance with Fig.2 in Sean's paper 1302.3898."
   ]
  },
  {
   "cell_type": "code",
   "execution_count": 160,
   "metadata": {
    "scrolled": true
   },
   "outputs": [
    {
     "name": "stdout",
     "output_type": "stream",
     "text": [
      "[a,b]=[0.00016678204759907602, 4.52]\n",
      "[a,b]=[0.00020127134763332316, 4.52]\n",
      "[a,b]=[0.00024289278109545435, 4.52]\n",
      "[a,b]=[0.0002931212206904137, 4.52]\n",
      "[a,b]=[0.00035373653194440785, 4.52]\n",
      "[a,b]=[0.00042688664347579014, 4.52]\n",
      "[a,b]=[0.0005151636597338084, 4.52]\n",
      "[a,b]=[0.0006216957132915833, 4.52]\n",
      "[a,b]=[0.0007502578115173007, 4.52]\n",
      "[a,b]=[0.0009054056055212468, 4.52]\n",
      "[a,b]=[0.001092636821536636, 4.52]\n",
      "[a,b]=[0.0013185860751219597, 4.52]\n",
      "[a,b]=[0.001591259971506678, 4.52]\n",
      "[a,b]=[0.001920320822958206, 4.52]\n",
      "[a,b]=[0.0023174290368124227, 4.52]\n",
      "[a,b]=[0.0027966563068291188, 4.52]\n",
      "[a,b]=[0.0033749842494789455, 4.52]\n",
      "[a,b]=[0.00407290615454484, 4.52]\n",
      "[a,b]=[0.00491515317331934, 4.52]\n",
      "[a,b]=[0.005931570677176823, 4.52]\n",
      "[a,b]=[0.007158175840649027, 4.52]\n",
      "[a,b]=[0.008638433924897486, 4.52]\n",
      "[a,b]=[0.010424798487215396, 4.52]\n",
      "[a,b]=[0.01258057009451955, 4.52]\n",
      "[a,b]=[0.015182139405113416, 4.52]\n",
      "[a,b]=[0.01832169410325123, 4.52]\n",
      "[a,b]=[0.022110485607848552, 4.52]\n",
      "[a,b]=[0.026682771312513433, 4.52]\n",
      "[a,b]=[0.03220057205180341, 4.52]\n",
      "[a,b]=[0.03885941337649281, 4.52]\n",
      "[a,b]=[0.04689525408231297, 4.52]\n",
      "[a,b]=[0.056592847507446746, 4.52]\n",
      "[a,b]=[0.06829583188481052, 4.52]\n",
      "[a,b]=[0.08241890730493015, 4.52]\n",
      "[a,b]=[0.09946253078512474, 4.52]\n",
      "[a,b]=[0.1200306501708511, 4.52]\n",
      "[a,b]=[0.1448521052773369, 4.52]\n",
      "[a,b]=[0.17480645462980346, 4.52]\n",
      "[a,b]=[0.2109551429834996, 4.52]\n",
      "[a,b]=[0.2545791140575044, 4.52]\n",
      "[a,b]=[0.30722420130507666, 4.52]\n",
      "[a,b]=[0.3707559051612621, 4.52]\n",
      "[a,b]=[0.44742549782218416, 4.52]\n",
      "[a,b]=[0.5399497980061999, 4.52]\n",
      "[a,b]=[0.6516074425485736, 4.52]\n",
      "[a,b]=[0.7863550662534328, 4.52]\n",
      "[a,b]=[0.9489675068840948, 4.52]\n",
      "[a,b]=[1.145207003513577, 4.52]\n",
      "[a,b]=[1.382027383848803, 4.52]\n",
      "[a,b]=[1.6678204759907604, 4.52]\n"
     ]
    },
    {
     "data": {
      "image/png": "[encoded data removed]",
      "text/plain": [
       "<Figure size 432x288 with 1 Axes>"
      ]
     },
     "metadata": {
      "needs_background": "light"
     },
     "output_type": "display_data"
    }
   ],
   "source": [
    "potential='attractive' #['attractive','repulsive']:\n",
    "alphaX=10.**(-2.)\n",
    "mX=200 #GeV\n",
    "mphi=10**(-3.) #GeV.\n",
    "\n",
    "vvals=np.logspace(np.log10(1.),np.log10(10.**4.))\n",
    "sigmavals=[sigmaT(potential,alphaX,mX,mphi,v) for v in vvals]\n",
    "\n",
    "pl.xscale('log')\n",
    "pl.yscale('log')\n",
    "pl.xlim([1,10.**4.])\n",
    "pl.ylim([0.1,10.**8.])\n",
    "pl.plot(vvals,sigmavals)\n",
    "pl.show()"
   ]
  },
  {
   "cell_type": "code",
   "execution_count": 163,
   "metadata": {
    "scrolled": true
   },
   "outputs": [
    {
     "name": "stdout",
     "output_type": "stream",
     "text": [
      "[a,b]=[0.00016678204759907602, 4.52]\n",
      "[a,b]=[0.00020127134763332316, 4.52]\n",
      "[a,b]=[0.00024289278109545435, 4.52]\n",
      "[a,b]=[0.0002931212206904137, 4.52]\n",
      "[a,b]=[0.00035373653194440785, 4.52]\n",
      "[a,b]=[0.00042688664347579014, 4.52]\n",
      "[a,b]=[0.0005151636597338084, 4.52]\n",
      "[a,b]=[0.0006216957132915833, 4.52]\n",
      "[a,b]=[0.0007502578115173007, 4.52]\n",
      "[a,b]=[0.0009054056055212468, 4.52]\n",
      "[a,b]=[0.001092636821536636, 4.52]\n",
      "[a,b]=[0.0013185860751219597, 4.52]\n",
      "[a,b]=[0.001591259971506678, 4.52]\n",
      "[a,b]=[0.001920320822958206, 4.52]\n",
      "[a,b]=[0.0023174290368124227, 4.52]\n",
      "[a,b]=[0.0027966563068291188, 4.52]\n",
      "[a,b]=[0.0033749842494789455, 4.52]\n",
      "[a,b]=[0.00407290615454484, 4.52]\n",
      "[a,b]=[0.00491515317331934, 4.52]\n",
      "[a,b]=[0.005931570677176823, 4.52]\n",
      "[a,b]=[0.007158175840649027, 4.52]\n",
      "[a,b]=[0.008638433924897486, 4.52]\n",
      "[a,b]=[0.010424798487215396, 4.52]\n",
      "[a,b]=[0.01258057009451955, 4.52]\n",
      "[a,b]=[0.015182139405113416, 4.52]\n",
      "[a,b]=[0.01832169410325123, 4.52]\n",
      "[a,b]=[0.022110485607848552, 4.52]\n",
      "[a,b]=[0.026682771312513433, 4.52]\n",
      "[a,b]=[0.03220057205180341, 4.52]\n",
      "[a,b]=[0.03885941337649281, 4.52]\n",
      "[a,b]=[0.04689525408231297, 4.52]\n",
      "[a,b]=[0.056592847507446746, 4.52]\n",
      "[a,b]=[0.06829583188481052, 4.52]\n",
      "[a,b]=[0.08241890730493015, 4.52]\n",
      "[a,b]=[0.09946253078512474, 4.52]\n",
      "[a,b]=[0.1200306501708511, 4.52]\n",
      "[a,b]=[0.1448521052773369, 4.52]\n",
      "[a,b]=[0.17480645462980346, 4.52]\n",
      "[a,b]=[0.2109551429834996, 4.52]\n",
      "[a,b]=[0.2545791140575044, 4.52]\n",
      "[a,b]=[0.30722420130507666, 4.52]\n",
      "[a,b]=[0.3707559051612621, 4.52]\n",
      "[a,b]=[0.44742549782218416, 4.52]\n",
      "[a,b]=[0.5399497980061999, 4.52]\n",
      "[a,b]=[0.6516074425485736, 4.52]\n",
      "[a,b]=[0.7863550662534328, 4.52]\n",
      "[a,b]=[0.9489675068840948, 4.52]\n",
      "[a,b]=[1.145207003513577, 4.52]\n",
      "[a,b]=[1.382027383848803, 4.52]\n",
      "[a,b]=[1.6678204759907604, 4.52]\n"
     ]
    },
    {
     "data": {
      "image/png": "[encoded data removed]",
      "text/plain": [
       "<Figure size 432x288 with 1 Axes>"
      ]
     },
     "metadata": {
      "needs_background": "light"
     },
     "output_type": "display_data"
    }
   ],
   "source": [
    "potential='attractive' #['attractive','repulsive']:\n",
    "alphaX=10.**(-2.)\n",
    "mX=200 #GeV\n",
    "mphi=10**(-3.) #GeV.\n",
    "\n",
    "vvals=np.logspace(np.log10(1.),np.log10(10.**4.))\n",
    "sigmavals=[sigmaT(potential,alphaX,mX,mphi,v) for v in vvals]\n",
    "\n",
    "pl.xscale('log')\n",
    "pl.yscale('log')\n",
    "pl.xlim([1,10.**4.])\n",
    "pl.ylim([0.1,10.**8.])\n",
    "pl.plot(vvals,sigmavals)\n",
    "pl.show()"
   ]
  },
  {
   "cell_type": "code",
   "execution_count": 85,
   "metadata": {},
   "outputs": [
    {
     "data": {
      "image/png": "[encoded data removed]",
      "text/plain": [
       "<Figure size 432x288 with 1 Axes>"
      ]
     },
     "metadata": {
      "needs_background": "light"
     },
     "output_type": "display_data"
    }
   ],
   "source": [
    "pl.xscale('log')\n",
    "pl.yscale('log')\n",
    "pl.plot(vvals,sigmamvals*vvals,'.')\n",
    "pl.show()"
   ]
  },
  {
   "cell_type": "code",
   "execution_count": null,
   "metadata": {},
   "outputs": [],
   "source": [
    "#### def sigmaT(potential,alphaX,mX,mphi,v):\n",
    "    #_____Conversion to SI units_____\n",
    "    #[mX]=GeV/c^2=10.**9.*eV/c^2=10.**9.*eVc2_to_kg*kg_____\n",
    "    mX_kg=10.**9.*eVc2_to_kg*mX\n",
    "    #print(mX_kg)\n",
    "    #[mphi]=MeV/c^2=10.**6.*eV/c^2=10.**6.*eVc2_to_kg*kg_____\n",
    "    mphi_kg=10.**6.*eVc2_to_kg*mphi\n",
    "    #print(mphi_kg)\n",
    "    #[v]=km/s=10**3 m/s_____\n",
    "    v_ms=10.**3.*v\n",
    "    #print(v_ms)\n",
    "    #_____Dimensionless quantities a,b_____\n",
    "    a=(1/(2.*alphaX))*(v_ms/c_ms) #Divide by c to make a dimensionless. Ok.\n",
    "    b=alphaX*(mX/mphi)\n",
    "    print('[a,b]='+str([a,b]))\n",
    "    #_____sigmaT_____\n",
    "    #sigmaT_m2=(16.*np.pi*cab(potential,a,b))*(hbar_Js**2./(mX_kg**2.*v_ms**2.))\n",
    "    sigmaT_m2=(16.*np.pi*cab(potential,a,b))*(h_Js**2./(mX_kg**2.*v_ms**2.))\n",
    "    sigmaT_cm2=(10.**2.)**2.*sigmaT_m2\n",
    "    sigmaTmX_cm2g=sigmaT_cm2/(mX_kg*10.**3.)\n",
    "    #print('sigmaT/m [cm**2]='+str(sigmaT_cm2))\n",
    "    print('sigmaT/m [cm**2/g]='+str(sigmaTmX_cm2g))\n",
    "    return sigmaT_cm2\n",
    "\n",
    "for potential in ['attractive']: #['attractive','repulsive']:\n",
    "    for alphaX in [10.**(-2.)]:\n",
    "        for mX in [200]: #GeV\n",
    "            for mphi in [1.]: #MeV.\n",
    "                for v in [1000]: #km/s\n",
    "                    print(sigmaT(potential,alphaX,mX,mphi,v)) #Ok. In accordance with Fig.2 in Sean's paper 1302.3898."
   ]
  },
  {
   "cell_type": "code",
   "execution_count": 86,
   "metadata": {},
   "outputs": [
    {
     "name": "stdout",
     "output_type": "stream",
     "text": [
      "[a,b]=[0.16678204759907603, 2.0]\n",
      "sigmaT/m [cm**2/g]=0.004853003147841062\n",
      "0.004853003147841062\n"
     ]
    }
   ],
   "source": [
    "def sigmaTm(potential,alphaX,mX,mphi,v):\n",
    "    #_____Conversion to SI units_____\n",
    "    #[mX]=GeV/c^2=10.**9.*eV/c^2=10.**9.*eVc2_to_kg*kg_____\n",
    "    mX_kg=10.**9.*eVc2_to_kg*mX\n",
    "    #_____sigmaT_____\n",
    "    sigmaT_cm2=sigmaT(potential,alphaX,mX,mphi,v)\n",
    "    #_____sigmaT/m_____\n",
    "    sigmaTmX_cm2g=sigmaT_cm2/(mX_kg*10.**3.)\n",
    "    return sigmaTmX_cm2g\n",
    "\n",
    "for potential in ['attractive']: #['attractive','repulsive']:\n",
    "    for alphaX in [10.**(-2.)]:\n",
    "        for mX in [200]: #GeV\n",
    "            for mphi in [1.]: #MeV.\n",
    "                for v in [1000]: #km/s\n",
    "                    print(sigmaTm(potential,alphaX,mX,mphi,v)) #Ok. In accordance with Fig.2 in Sean's paper 1302.3898."
   ]
  },
  {
   "cell_type": "code",
   "execution_count": null,
   "metadata": {},
   "outputs": [],
   "source": []
  }
 ],
 "metadata": {
  "kernelspec": {
   "display_name": "Python 2",
   "language": "python",
   "name": "python2"
  },
  "language_info": {
   "codemirror_mode": {
    "name": "ipython",
    "version": 2
   },
   "file_extension": ".py",
   "mimetype": "text/x-python",
   "name": "python",
   "nbconvert_exporter": "python",
   "pygments_lexer": "ipython2",
   "version": "2.7.16"
  }
 },
 "nbformat": 4,
 "nbformat_minor": 2
}
