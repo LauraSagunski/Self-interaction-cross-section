{
 "cells": [
  {
   "cell_type": "markdown",
   "metadata": {},
   "source": [
    "# Packages"
   ]
  },
  {
   "cell_type": "code",
   "execution_count": 301,
   "metadata": {},
   "outputs": [],
   "source": [
    "import numpy as np\n",
    "import pandas as pd #for loading csv Excel files\n",
    "import itertools #to merge lists\n",
    "from scipy.interpolate import interp1d\n",
    "from scipy.optimize import leastsq, curve_fit #for fitting\n",
    "import matplotlib.pyplot as pl #for plots\n",
    "from matplotlib import rc, rcParams"
   ]
  },
  {
   "cell_type": "markdown",
   "metadata": {},
   "source": [
    "# Options for plotting"
   ]
  },
  {
   "cell_type": "code",
   "execution_count": 198,
   "metadata": {},
   "outputs": [],
   "source": [
    "fontsize=26\n",
    "legendfontsize=22\n",
    "font = {'size' : fontsize}\n",
    "rc('font',**font)\n",
    "rc('text', usetex=True)\n",
    "rc('font', family='serif', serif='Computer Modern Roman')"
   ]
  },
  {
   "cell_type": "code",
   "execution_count": 199,
   "metadata": {},
   "outputs": [],
   "source": [
    "#Color palette accessible to colorblind people (see https://davidmathlogic.com/colorblind/)\n",
    "lightblue='#1A85FF'\n",
    "blue='#005AB5'\n",
    "darkblue='#222255'\n",
    "purple='#5D3A9B'\n",
    "magenta='#AA4499'\n",
    "red='#DC3220'\n",
    "orange='#E66100'\n",
    "yellow='#FFC20A'\n",
    "green='#40B0A6'\n",
    "\n",
    "colors=[lightblue,blue,darkblue,purple,magenta,red,orange,yellow,green]"
   ]
  },
  {
   "cell_type": "markdown",
   "metadata": {},
   "source": [
    "# Constants"
   ]
  },
  {
   "cell_type": "code",
   "execution_count": 288,
   "metadata": {},
   "outputs": [],
   "source": [
    "c=2.99792458*10.**8.*10.**(-3.) #km/s (not m/s)\n",
    "GeV_to_cmminus1=5.068*10.**13.\n",
    "GeV_to_g=1.78*10.**(-24.)\n",
    "fm_to_cm=10.**(-15.)*10.**2."
   ]
  },
  {
   "cell_type": "code",
   "execution_count": 274,
   "metadata": {},
   "outputs": [
    {
     "data": {
      "text/plain": [
       "1e-13"
      ]
     },
     "execution_count": 274,
     "metadata": {},
     "output_type": "execute_result"
    }
   ],
   "source": [
    "fm_to_cm"
   ]
  },
  {
   "cell_type": "markdown",
   "metadata": {},
   "source": [
    "# Data dark photon model"
   ]
  },
  {
   "cell_type": "code",
   "execution_count": 8,
   "metadata": {},
   "outputs": [
    {
     "name": "stdout",
     "output_type": "stream",
     "text": [
      "1001\n"
     ]
    }
   ],
   "source": [
    "potentials=['attractive','repulsive'] \n",
    "datadarkphotonmodel=np.array([pd.read_csv('DataDarkPhotonModel/crosssec_'+str(potential)+'.csv',header=-1).values for potential in potentials]) #header=-1 needed to load da a from first line.\n",
    "avals=np.array(datadarkphotonmodel[0][:,0]) #Same avals for both potentials.\n",
    "#print(avals) \n",
    "uniqueavals=np.unique(avals)\n",
    "#print(uniqueavals)\n",
    "bvals=np.array(datadarkphotonmodel[0][:,1]) #Same bvals for both potentials.\n",
    "#print(bvals) \n",
    "uniquebvals=np.unique(bvals)\n",
    "#print(uniquebvals)\n",
    "print(len(uniquebvals))\n",
    "cvals=[datadarkphotonmodel[i][:,2] for i in range(0,len(datadarkphotonmodel))]\n",
    "#print(cvals) "
   ]
  },
  {
   "cell_type": "markdown",
   "metadata": {},
   "source": [
    "# Generate 2D interpolation function c(a,b)"
   ]
  },
  {
   "cell_type": "code",
   "execution_count": 190,
   "metadata": {},
   "outputs": [],
   "source": [
    "#_____Extract lines in data dark photon model with same bvals (repeat each other)_____\n",
    "ibvals=np.array([list(itertools.chain.from_iterable(np.argwhere(bvals==uniquebvals[i]))) for i in range(0,len(uniquebvals))])\n",
    "#print(ibvals[0])\n",
    "#_____For fixed b interpolate in terms of a: c(a)_____\n",
    "###Note: Small, negligible differences between linear and cubic interpolation function. Interpolation function might break down when extrapolating to values far outside the range of [a,b]. \n",
    "#caint=np.array([[interp1d([avals[k] for k in ibvals[j]],[cvals[i][k] for k in ibvals[j]],kind='linear') for j in range(0,len(ibvals))] for i in range(0,len(potentials))])\n",
    "caint=np.array([[interp1d([avals[k] for k in ibvals[j]],[cvals[i][k] for k in ibvals[j]],kind='cubic',fill_value='extrapolate') for j in range(0,len(ibvals))] for i in range(0,len(potentials))])\n",
    "#print(caint)"
   ]
  },
  {
   "cell_type": "code",
   "execution_count": 162,
   "metadata": {},
   "outputs": [
    {
     "name": "stdout",
     "output_type": "stream",
     "text": [
      "[1e-05, 0.1, array(1.10814e-14)]\n",
      "[1.05925e-05, 0.1, array(1.24335e-14)]\n",
      "[1e-10, 0.1, array(-5.79385703e-16)]\n"
     ]
    }
   ],
   "source": [
    "#_____2D interpolation function c(a,b)_____\n",
    "def cab(potential,a,b):\n",
    "    if potential=='attractive':\n",
    "        caInt=caint[0]\n",
    "    elif potential=='repulsive':\n",
    "        caInt=caint[1]\n",
    "    #_____Evaluate all interpolation functions c(b) at b and interpolate in terms of a: c(a,b)_____\n",
    "    cavals=[caInt[i](a) for i in range(0,len(caInt))]\n",
    "    cab=interp1d(uniquebvals,cavals,kind='cubic',fill_value='extrapolate')(b) #,kind='cubic',fill_value='extrapolate'\n",
    "    return cab\n",
    "    \n",
    "for potential in ['attractive']: #['attractive','repulsive']:\n",
    "    for b in [0.1]: #[0.1,10.,100.,1000.,10000.]\n",
    "        for a in [avals[0],avals[1],10**(-10.)]:\n",
    "            print([a,b,cab(potential,a,b)])"
   ]
  },
  {
   "cell_type": "markdown",
   "metadata": {},
   "source": [
    "# sigmaT(v)"
   ]
  },
  {
   "cell_type": "code",
   "execution_count": 214,
   "metadata": {},
   "outputs": [
    {
     "name": "stdout",
     "output_type": "stream",
     "text": [
      "sigmaT [cm^2]=5.269668738050891e-20\n",
      "sigmaT/m [cm^2/g]=148.02440275423854\n",
      "sigmaT*m [(cm^2/g) GeV^3]=1184195222.0339084\n"
     ]
    }
   ],
   "source": [
    "def sigmaT(potential,alphaX,mX,mphi,v):\n",
    "    a=(1/(2.*alphaX))*(v/c) #Divide by c to make a dimensionless. Ok.\n",
    "    b=alphaX*(mX/mphi)\n",
    "    #print('[a,b]='+str([a,b]))\n",
    "    sigmaT=(16.*np.pi*cab(potential,a,b))/((mX*GeV_to_cmminus1)**2.*(v**2/c**2.)) #cm**2\n",
    "    return sigmaT\n",
    "\n",
    "def sigmaT_over_m(potential,alphaX,mX,mphi,v):\n",
    "    sigmaT_over_m=sigmaT(potential,alphaX,mX,mphi,v)/(mX*GeV_to_g) #cm**2/g\n",
    "    return sigmaT_over_m\n",
    "\n",
    "def sigmaT_times_m2(potential,alphaX,mX,mphi,v):\n",
    "    sigmaT_times_m2=sigmaT_over_m(potential,alphaX,mX,mphi,v)*mX**3. #cm**2/g*GeV**3.\n",
    "    return sigmaT_times_m2\n",
    "\n",
    "for potential in ['attractive']: #['attractive','repulsive']:\n",
    "    for alphaX in [10.**(-2.)]:\n",
    "        for mX in [200]: #GeV\n",
    "            for mphi in [10**(-3.)]: #GeV.\n",
    "                for v in [1000]: #km/s\n",
    "                    print('sigmaT [cm^2]='+str(sigmaT(potential,alphaX,mX,mphi,v)))\n",
    "                    print('sigmaT/m [cm^2/g]='+str(sigmaT_over_m(potential,alphaX,mX,mphi,v)))\n",
    "                    print('sigmaT*m [(cm^2/g) GeV^3]='+str(sigmaT_times_m2(potential,alphaX,mX,mphi,v)))"
   ]
  },
  {
   "cell_type": "code",
   "execution_count": 222,
   "metadata": {
    "scrolled": false
   },
   "outputs": [
    {
     "data": {
      "image/png": "[encoded data removed]",
      "text/plain": [
       "<Figure size 576x432 with 1 Axes>"
      ]
     },
     "metadata": {
      "needs_background": "light"
     },
     "output_type": "display_data"
    }
   ],
   "source": [
    "potential='attractive' #['attractive','repulsive']:\n",
    "alphaX=10.**(-2.)\n",
    "mX=200 #GeV\n",
    "mphi=10**(-3.) #GeV.\n",
    "\n",
    "pl.figure(figsize=(8,6))\n",
    "for b in [1.00,1.53,1.68,3.13,4.52]:\n",
    "    mphi=(alphaX*mX)/b\n",
    "    #print(mphi)\n",
    "    vvals=np.logspace(np.log10(1.),np.log10(10.**4.),50)\n",
    "    sigmavals=[sigmaT_times_m2(potential,alphaX,mX,mphi,v) for v in vvals]\n",
    "    pl.plot(vvals,sigmavals,label=str(b))\n",
    "\n",
    "pl.xscale('log')\n",
    "pl.yscale('log')\n",
    "pl.xlim([1,10.**4.])\n",
    "pl.ylim([0.1,10.**9.])\n",
    "pl.xlabel(r'$v\\;{\\rm (km/s)}$',fontsize=fontsize) \n",
    "pl.ylabel(r'$\\sigma_T \\, m_{\\chi}^{2}\\;{\\rm (cm^{2}\\,g^{-1}\\,GeV^{3})}$',fontsize=fontsize) \n",
    "pl.legend(title=r'$b$',loc='upper right',edgecolor='white',fontsize=legendfontsize)\n",
    "pl.show() #Ok. In accordance with Fig. 3 in Sean's paper 1302.3898."
   ]
  },
  {
   "cell_type": "markdown",
   "metadata": {},
   "source": [
    "# Parameterization of sigmaT(v) from Chu et al., 1908.06067"
   ]
  },
  {
   "cell_type": "code",
   "execution_count": 290,
   "metadata": {},
   "outputs": [
    {
     "name": "stdout",
     "output_type": "stream",
     "text": [
      "sigmaT [cm^2]=1.22512412437e-23\n",
      "sigmaT/m [cm^2/g]=0.0344135989991\n",
      "sigmaT*m [(cm^2/g) GeV^3]=9.80099299493e-17\n"
     ]
    }
   ],
   "source": [
    "def sigmaTChu(mX,v,aa,re):\n",
    "    A=mX*(aa*fm_to_cm*GeV_to_cmminus1)*(v/c) #aa in GeV**(-1.)\n",
    "    B=re/aa #re in GeV**(-1.)\n",
    "    term1=(1-(1./8.)*B*A**2.)**2.\n",
    "    term2=(1./4.)*A**2.\n",
    "    #print('[A,B,term1,term2]='+str([A,B,term1,term2]))\n",
    "    sigmaT=4.*np.pi*(aa*fm_to_cm)**2.*(term1+term2)**(-1.)\n",
    "    return sigmaT\n",
    "\n",
    "def sigmaT_over_mChu(mX,v,aa,re):\n",
    "    sigmaT_over_m=sigmaTChu(mX,v,aa,re)/(mX*GeV_to_g) #cm**2/g\n",
    "    return sigmaT_over_m\n",
    "\n",
    "def sigmaT_times_m2Chu(mX,v,aa,re):\n",
    "    sigmaT_times_m2=sigmaT_over_mChu(mX,v,aa,re)*mX**3. #cm**2/g*GeV**3.\n",
    "    return sigmaT_times_m2\n",
    "\n",
    "for mX in [200]: #GeV\n",
    "    for v in [10.]: #km/s\n",
    "        for aa in [10]: #fm\n",
    "            for re in [1.]: #fm\n",
    "                print('sigmaT [cm^2]='+str(sigmaTChu(mX,v,aa,re)))\n",
    "                print('sigmaT/m [cm^2/g]='+str(sigmaT_over_mChu(mX,v,aa,re)))\n",
    "                print('sigmaT*m [(cm^2/g) GeV^3]='+str(sigmaT_times_m2Chu(mX,v,aa,re)))"
   ]
  },
  {
   "cell_type": "markdown",
   "metadata": {},
   "source": [
    "# Fit of Sean's cross section data with parameterization of Chu"
   ]
  },
  {
   "cell_type": "code",
   "execution_count": 382,
   "metadata": {},
   "outputs": [
    {
     "name": "stdout",
     "output_type": "stream",
     "text": [
      "[1.00000000e+00 1.00926219e+00 1.01861017e+00 1.02804473e+00\n",
      " 1.03756668e+00 1.04717682e+00 1.05687597e+00 1.06666496e+00\n",
      " 1.07654461e+00 1.08651577e+00 1.09657929e+00 1.10673602e+00\n",
      " 1.11698682e+00 1.12733256e+00 1.13777413e+00 1.14831241e+00\n",
      " 1.15894830e+00 1.16968270e+00 1.18051653e+00 1.19145070e+00\n",
      " 1.20248614e+00 1.21362380e+00 1.22486461e+00 1.23620954e+00\n",
      " 1.24765955e+00 1.25921561e+00 1.27087871e+00 1.28264983e+00\n",
      " 1.29452998e+00 1.30652016e+00 1.31862140e+00 1.33083472e+00\n",
      " 1.34316117e+00 1.35560179e+00 1.36815763e+00 1.38082977e+00\n",
      " 1.39361927e+00 1.40652724e+00 1.41955477e+00 1.43270295e+00\n",
      " 1.44597292e+00 1.45936580e+00 1.47288272e+00 1.48652484e+00\n",
      " 1.50029332e+00 1.51418933e+00 1.52821404e+00 1.54236865e+00\n",
      " 1.55665436e+00 1.57107239e+00 1.58562396e+00 1.60031031e+00\n",
      " 1.61513269e+00 1.63009236e+00 1.64519059e+00 1.66042866e+00\n",
      " 1.67580786e+00 1.69132952e+00 1.70699493e+00 1.72280545e+00\n",
      " 1.73876240e+00 1.75486715e+00 1.77112106e+00 1.78752553e+00\n",
      " 1.80408193e+00 1.82079168e+00 1.83765620e+00 1.85467692e+00\n",
      " 1.87185529e+00 1.88919278e+00 1.90669084e+00 1.92435098e+00\n",
      " 1.94217468e+00 1.96016347e+00 1.97831888e+00 1.99664245e+00\n",
      " 2.01513573e+00 2.03380031e+00 2.05263775e+00 2.07164968e+00\n",
      " 2.09083769e+00 2.11020343e+00 2.12974854e+00 2.14947467e+00\n",
      " 2.16938352e+00 2.18947676e+00 2.20975611e+00 2.23022330e+00\n",
      " 2.25088005e+00 2.27172813e+00 2.29276931e+00 2.31400538e+00\n",
      " 2.33543814e+00 2.35706941e+00 2.37890104e+00 2.40093488e+00\n",
      " 2.42317279e+00 2.44561668e+00 2.46826845e+00 2.49113003e+00\n",
      " 2.51420335e+00 2.53749038e+00 2.56099310e+00 2.58471351e+00\n",
      " 2.60865362e+00 2.63281547e+00 2.65720111e+00 2.68181261e+00\n",
      " 2.70665207e+00 2.73172160e+00 2.75702333e+00 2.78255940e+00\n",
      " 2.80833200e+00 2.83434331e+00 2.86059554e+00 2.88709092e+00\n",
      " 2.91383170e+00 2.94082017e+00 2.96805861e+00 2.99554933e+00\n",
      " 3.02329468e+00 3.05129702e+00 3.07955871e+00 3.10808217e+00\n",
      " 3.13686982e+00 3.16592411e+00 3.19524751e+00 3.22484250e+00\n",
      " 3.25471161e+00 3.28485737e+00 3.31528234e+00 3.34598912e+00\n",
      " 3.37698031e+00 3.40825855e+00 3.43982649e+00 3.47168682e+00\n",
      " 3.50384225e+00 3.53629550e+00 3.56904935e+00 3.60210656e+00\n",
      " 3.63546996e+00 3.66914238e+00 3.70312668e+00 3.73742574e+00\n",
      " 3.77204249e+00 3.80697987e+00 3.84224085e+00 3.87782841e+00\n",
      " 3.91374560e+00 3.94999546e+00 3.98658107e+00 4.02350555e+00\n",
      " 4.06077203e+00 4.09838367e+00 4.13634368e+00 4.17465529e+00\n",
      " 4.21332174e+00 4.25234633e+00 4.29173238e+00 4.33148322e+00\n",
      " 4.37160225e+00 4.41209286e+00 4.45295851e+00 4.49420266e+00\n",
      " 4.53582883e+00 4.57784054e+00 4.62024137e+00 4.66303493e+00\n",
      " 4.70622485e+00 4.74981480e+00 4.79380850e+00 4.83820966e+00\n",
      " 4.88302209e+00 4.92824957e+00 4.97389596e+00 5.01996513e+00\n",
      " 5.06646101e+00 5.11338754e+00 5.16074871e+00 5.20854855e+00\n",
      " 5.25679112e+00 5.30548053e+00 5.35462090e+00 5.40421642e+00\n",
      " 5.45427131e+00 5.50478981e+00 5.55577622e+00 5.60723488e+00\n",
      " 5.65917016e+00 5.71158648e+00 5.76448828e+00 5.81788007e+00\n",
      " 5.87176639e+00 5.92615181e+00 5.98104096e+00 6.03643851e+00\n",
      " 6.09234915e+00 6.14877765e+00 6.20572881e+00 6.26320745e+00\n",
      " 6.32121848e+00 6.37976681e+00 6.43885743e+00 6.49849535e+00\n",
      " 6.55868566e+00 6.61943346e+00 6.68074392e+00 6.74262224e+00\n",
      " 6.80507370e+00 6.86810359e+00 6.93171728e+00 6.99592017e+00\n",
      " 7.06071771e+00 7.12611543e+00 7.19211887e+00 7.25873365e+00\n",
      " 7.32596543e+00 7.39381992e+00 7.46230289e+00 7.53142017e+00\n",
      " 7.60117762e+00 7.67158118e+00 7.74263683e+00 7.81435061e+00\n",
      " 7.88672862e+00 7.95977700e+00 8.03350198e+00 8.10790981e+00\n",
      " 8.18300682e+00 8.25879939e+00 8.33529397e+00 8.41249705e+00\n",
      " 8.49041520e+00 8.56905505e+00 8.64842328e+00 8.72852662e+00\n",
      " 8.80937190e+00 8.89096599e+00 8.97331581e+00 9.05642838e+00\n",
      " 9.14031075e+00 9.22497005e+00 9.31041349e+00 9.39664831e+00\n",
      " 9.48368187e+00 9.57152154e+00 9.66017480e+00 9.74964918e+00\n",
      " 9.83995230e+00 9.93109181e+00 1.00230755e+01 1.01159111e+01\n",
      " 1.02096066e+01 1.03041699e+01 1.03996091e+01 1.04959323e+01\n",
      " 1.05931476e+01 1.06912634e+01 1.07902879e+01 1.08902296e+01\n",
      " 1.09910970e+01 1.10928986e+01 1.11956432e+01 1.12993394e+01\n",
      " 1.14039960e+01 1.15096220e+01 1.16162263e+01 1.17238180e+01\n",
      " 1.18324063e+01 1.19420003e+01 1.20526094e+01 1.21642429e+01\n",
      " 1.22769105e+01 1.23906216e+01 1.25053859e+01 1.26212131e+01\n",
      " 1.27381132e+01 1.28560961e+01 1.29751717e+01 1.30953502e+01\n",
      " 1.32166418e+01 1.33390569e+01 1.34626058e+01 1.35872990e+01\n",
      " 1.37131472e+01 1.38401610e+01 1.39683512e+01 1.40977287e+01\n",
      " 1.42283046e+01 1.43600898e+01 1.44930957e+01 1.46273336e+01\n",
      " 1.47628147e+01 1.48995507e+01 1.50375532e+01 1.51768339e+01\n",
      " 1.53174046e+01 1.54592774e+01 1.56024641e+01 1.57469771e+01\n",
      " 1.58928287e+01 1.60400311e+01 1.61885969e+01 1.63385388e+01\n",
      " 1.64898694e+01 1.66426018e+01 1.67967487e+01 1.69523234e+01\n",
      " 1.71093391e+01 1.72678090e+01 1.74277468e+01 1.75891659e+01\n",
      " 1.77520801e+01 1.79165033e+01 1.80824493e+01 1.82499324e+01\n",
      " 1.84189668e+01 1.85895668e+01 1.87617469e+01 1.89355218e+01\n",
      " 1.91109062e+01 1.92879151e+01 1.94665634e+01 1.96468665e+01\n",
      " 1.98288395e+01 2.00124980e+01 2.01978576e+01 2.03849340e+01\n",
      " 2.05737431e+01 2.07643011e+01 2.09566240e+01 2.11507282e+01\n",
      " 2.13466303e+01 2.15443469e+01 2.17438948e+01 2.19452909e+01\n",
      " 2.21485523e+01 2.23536965e+01 2.25607407e+01 2.27697026e+01\n",
      " 2.29805999e+01 2.31934506e+01 2.34082728e+01 2.36250847e+01\n",
      " 2.38439047e+01 2.40647515e+01 2.42876438e+01 2.45126006e+01\n",
      " 2.47396410e+01 2.49687843e+01 2.52000499e+01 2.54334576e+01\n",
      " 2.56690272e+01 2.59067786e+01 2.61467321e+01 2.63889081e+01\n",
      " 2.66333273e+01 2.68800102e+01 2.71289780e+01 2.73802518e+01\n",
      " 2.76338529e+01 2.78898029e+01 2.81481236e+01 2.84088369e+01\n",
      " 2.86719650e+01 2.89375302e+01 2.92055551e+01 2.94760626e+01\n",
      " 2.97490755e+01 3.00246171e+01 3.03027108e+01 3.05833803e+01\n",
      " 3.08666494e+01 3.11525422e+01 3.14410830e+01 3.17322963e+01\n",
      " 3.20262069e+01 3.23228398e+01 3.26222201e+01 3.29243733e+01\n",
      " 3.32293252e+01 3.35371015e+01 3.38477286e+01 3.41612327e+01\n",
      " 3.44776405e+01 3.47969790e+01 3.51192753e+01 3.54445567e+01\n",
      " 3.57728510e+01 3.61041860e+01 3.64385898e+01 3.67760910e+01\n",
      " 3.71167182e+01 3.74605003e+01 3.78074666e+01 3.81576466e+01\n",
      " 3.85110700e+01 3.88677669e+01 3.92277676e+01 3.95911027e+01\n",
      " 3.99578030e+01 4.03278998e+01 4.07014245e+01 4.10784089e+01\n",
      " 4.14588850e+01 4.18428851e+01 4.22304419e+01 4.26215883e+01\n",
      " 4.30163576e+01 4.34147833e+01 4.38168993e+01 4.42227398e+01\n",
      " 4.46323393e+01 4.50457325e+01 4.54629547e+01 4.58840413e+01\n",
      " 4.63090280e+01 4.67379511e+01 4.71708469e+01 4.76077523e+01\n",
      " 4.80487044e+01 4.84937407e+01 4.89428990e+01 4.93962174e+01\n",
      " 4.98537346e+01 5.03154895e+01 5.07815211e+01 5.12518693e+01\n",
      " 5.17265739e+01 5.22056753e+01 5.26892142e+01 5.31772318e+01\n",
      " 5.36697695e+01 5.41668691e+01 5.46685730e+01 5.51749238e+01\n",
      " 5.56859644e+01 5.62017385e+01 5.67222897e+01 5.72476624e+01\n",
      " 5.77779012e+01 5.83130511e+01 5.88531578e+01 5.93982669e+01\n",
      " 5.99484250e+01 6.05036788e+01 6.10640754e+01 6.16296626e+01\n",
      " 6.22004883e+01 6.27766011e+01 6.33580499e+01 6.39448843e+01\n",
      " 6.45371540e+01 6.51349095e+01 6.57382014e+01 6.63470812e+01\n",
      " 6.69616005e+01 6.75818117e+01 6.82077673e+01 6.88395207e+01\n",
      " 6.94771255e+01 7.01206359e+01 7.07701066e+01 7.14255929e+01\n",
      " 7.20871503e+01 7.27548353e+01 7.34287045e+01 7.41088152e+01\n",
      " 7.47952252e+01 7.54879928e+01 7.61871770e+01 7.68928372e+01\n",
      " 7.76050334e+01 7.83238260e+01 7.90492762e+01 7.97814457e+01\n",
      " 8.05203967e+01 8.12661920e+01 8.20188950e+01 8.27785697e+01\n",
      " 8.35452806e+01 8.43190929e+01 8.51000725e+01 8.58882856e+01\n",
      " 8.66837993e+01 8.74866812e+01 8.82969996e+01 8.91148232e+01\n",
      " 8.99402217e+01 9.07732653e+01 9.16140246e+01 9.24625712e+01\n",
      " 9.33189772e+01 9.41833153e+01 9.50556592e+01 9.59360829e+01\n",
      " 9.68246612e+01 9.77214697e+01 9.86265846e+01 9.95400829e+01\n",
      " 1.00462042e+02 1.01392541e+02 1.02331658e+02 1.03279473e+02\n",
      " 1.04236067e+02 1.05201522e+02 1.06175918e+02 1.07159340e+02\n",
      " 1.08151870e+02 1.09153594e+02 1.10164595e+02 1.11184960e+02\n",
      " 1.12214777e+02 1.13254132e+02 1.14303113e+02 1.15361810e+02\n",
      " 1.16430313e+02 1.17508713e+02 1.18597101e+02 1.19695570e+02\n",
      " 1.20804213e+02 1.21923125e+02 1.23052400e+02 1.24192135e+02\n",
      " 1.25342427e+02 1.26503372e+02 1.27675070e+02 1.28857621e+02\n",
      " 1.30051125e+02 1.31255684e+02 1.32471399e+02 1.33698374e+02\n",
      " 1.34936714e+02 1.36186524e+02 1.37447909e+02 1.38720978e+02\n",
      " 1.40005838e+02 1.41302599e+02 1.42611371e+02 1.43932264e+02\n",
      " 1.45265393e+02 1.46610868e+02 1.47968806e+02 1.49339322e+02\n",
      " 1.50722531e+02 1.52118552e+02 1.53527503e+02 1.54949504e+02\n",
      " 1.56384676e+02 1.57833141e+02 1.59295021e+02 1.60770442e+02\n",
      " 1.62259529e+02 1.63762407e+02 1.65279206e+02 1.66810054e+02\n",
      " 1.68355080e+02 1.69914417e+02 1.71488197e+02 1.73076553e+02\n",
      " 1.74679622e+02 1.76297538e+02 1.77930439e+02 1.79578465e+02\n",
      " 1.81241755e+02 1.82920450e+02 1.84614695e+02 1.86324631e+02\n",
      " 1.88050406e+02 1.89792164e+02 1.91550056e+02 1.93324229e+02\n",
      " 1.95114835e+02 1.96922026e+02 1.98745955e+02 2.00586778e+02\n",
      " 2.02444651e+02 2.04319732e+02 2.06212180e+02 2.08122157e+02\n",
      " 2.10049824e+02 2.11995346e+02 2.13958887e+02 2.15940615e+02\n",
      " 2.17940698e+02 2.19959307e+02 2.21996612e+02 2.24052787e+02\n",
      " 2.26128007e+02 2.28222447e+02 2.30336287e+02 2.32469706e+02\n",
      " 2.34622885e+02 2.36796007e+02 2.38989257e+02 2.41202821e+02\n",
      " 2.43436887e+02 2.45691646e+02 2.47967289e+02 2.50264010e+02\n",
      " 2.52582003e+02 2.54921465e+02 2.57282597e+02 2.59665597e+02\n",
      " 2.62070670e+02 2.64498018e+02 2.66947849e+02 2.69420371e+02\n",
      " 2.71915794e+02 2.74434330e+02 2.76976194e+02 2.79541600e+02\n",
      " 2.82130768e+02 2.84743917e+02 2.87381269e+02 2.90043049e+02\n",
      " 2.92729484e+02 2.95440800e+02 2.98177229e+02 3.00939003e+02\n",
      " 3.03726358e+02 3.06539530e+02 3.09378757e+02 3.12244282e+02\n",
      " 3.15136348e+02 3.18055202e+02 3.21001090e+02 3.23974263e+02\n",
      " 3.26974974e+02 3.30003479e+02 3.33060034e+02 3.36144900e+02\n",
      " 3.39258338e+02 3.42400614e+02 3.45571994e+02 3.48772747e+02\n",
      " 3.52003147e+02 3.55263468e+02 3.58553986e+02 3.61874981e+02\n",
      " 3.65226736e+02 3.68609536e+02 3.72023668e+02 3.75469422e+02\n",
      " 3.78947092e+02 3.82456972e+02 3.85999362e+02 3.89574562e+02\n",
      " 3.93182876e+02 3.96824610e+02 4.00500076e+02 4.04209584e+02\n",
      " 4.07953450e+02 4.11731993e+02 4.15545533e+02 4.19394396e+02\n",
      " 4.23278907e+02 4.27199397e+02 4.31156199e+02 4.35149650e+02\n",
      " 4.39180089e+02 4.43247859e+02 4.47353305e+02 4.51496777e+02\n",
      " 4.55678627e+02 4.59899209e+02 4.64158883e+02 4.68458012e+02\n",
      " 4.72796959e+02 4.77176095e+02 4.81595791e+02 4.86056423e+02\n",
      " 4.90558371e+02 4.95102016e+02 4.99687745e+02 5.04315949e+02\n",
      " 5.08987019e+02 5.13701354e+02 5.18459354e+02 5.23261424e+02\n",
      " 5.28107971e+02 5.32999408e+02 5.37936150e+02 5.42918618e+02\n",
      " 5.47947234e+02 5.53022426e+02 5.58144625e+02 5.63314267e+02\n",
      " 5.68531791e+02 5.73797641e+02 5.79112265e+02 5.84476113e+02\n",
      " 5.89889643e+02 5.95353313e+02 6.00867589e+02 6.06432940e+02\n",
      " 6.12049837e+02 6.17718760e+02 6.23440189e+02 6.29214611e+02\n",
      " 6.35042517e+02 6.40924402e+02 6.46860766e+02 6.52852114e+02\n",
      " 6.58898955e+02 6.65001803e+02 6.71161177e+02 6.77377600e+02\n",
      " 6.83651600e+02 6.89983712e+02 6.96374473e+02 7.02824426e+02\n",
      " 7.09334120e+02 7.15904109e+02 7.22534949e+02 7.29227206e+02\n",
      " 7.35981448e+02 7.42798248e+02 7.49678187e+02 7.56621850e+02\n",
      " 7.63629826e+02 7.70702711e+02 7.77841107e+02 7.85045620e+02\n",
      " 7.92316862e+02 7.99655453e+02 8.07062014e+02 8.14537177e+02\n",
      " 8.22081576e+02 8.29695852e+02 8.37380654e+02 8.45136633e+02\n",
      " 8.52964450e+02 8.60864770e+02 8.68838264e+02 8.76885609e+02\n",
      " 8.85007491e+02 8.93204600e+02 9.01477631e+02 9.09827289e+02\n",
      " 9.18254284e+02 9.26759330e+02 9.35343152e+02 9.44006479e+02\n",
      " 9.52750047e+02 9.61574600e+02 9.70480888e+02 9.79469667e+02\n",
      " 9.88541702e+02 9.97697764e+02 1.00693863e+03 1.01626509e+03\n",
      " 1.02567793e+03 1.03517796e+03 1.04476597e+03 1.05444279e+03\n",
      " 1.06420924e+03 1.07406615e+03 1.08401436e+03 1.09405471e+03\n",
      " 1.10418805e+03 1.11441525e+03 1.12473718e+03 1.13515471e+03\n",
      " 1.14566873e+03 1.15628013e+03 1.16698982e+03 1.17779870e+03\n",
      " 1.18870770e+03 1.19971774e+03 1.21082975e+03 1.22204469e+03\n",
      " 1.23336350e+03 1.24478715e+03 1.25631660e+03 1.26795285e+03\n",
      " 1.27969687e+03 1.29154967e+03 1.30351224e+03 1.31558562e+03\n",
      " 1.32777083e+03 1.34006890e+03 1.35248087e+03 1.36500781e+03\n",
      " 1.37765077e+03 1.39041083e+03 1.40328908e+03 1.41628662e+03\n",
      " 1.42940453e+03 1.44264395e+03 1.45600600e+03 1.46949180e+03\n",
      " 1.48310251e+03 1.49683929e+03 1.51070330e+03 1.52469573e+03\n",
      " 1.53881775e+03 1.55307057e+03 1.56745541e+03 1.58197348e+03\n",
      " 1.59662602e+03 1.61141428e+03 1.62633950e+03 1.64140297e+03\n",
      " 1.65660596e+03 1.67194976e+03 1.68743568e+03 1.70306503e+03\n",
      " 1.71883914e+03 1.73475936e+03 1.75082703e+03 1.76704353e+03\n",
      " 1.78341022e+03 1.79992851e+03 1.81659979e+03 1.83342548e+03\n",
      " 1.85040702e+03 1.86754584e+03 1.88484341e+03 1.90230119e+03\n",
      " 1.91992067e+03 1.93770334e+03 1.95565072e+03 1.97376433e+03\n",
      " 1.99204571e+03 2.01049642e+03 2.02911802e+03 2.04791210e+03\n",
      " 2.06688025e+03 2.08602409e+03 2.10534524e+03 2.12484535e+03\n",
      " 2.14452608e+03 2.16438909e+03 2.18443607e+03 2.20466874e+03\n",
      " 2.22508880e+03 2.24569800e+03 2.26649808e+03 2.28749082e+03\n",
      " 2.30867799e+03 2.33006141e+03 2.35164288e+03 2.37342425e+03\n",
      " 2.39540736e+03 2.41759408e+03 2.43998630e+03 2.46258592e+03\n",
      " 2.48539486e+03 2.50841506e+03 2.53164848e+03 2.55509709e+03\n",
      " 2.57876289e+03 2.60264788e+03 2.62675410e+03 2.65108360e+03\n",
      " 2.67563844e+03 2.70042072e+03 2.72543253e+03 2.75067601e+03\n",
      " 2.77615329e+03 2.80186656e+03 2.82781798e+03 2.85400977e+03\n",
      " 2.88044415e+03 2.90712338e+03 2.93404971e+03 2.96122544e+03\n",
      " 2.98865287e+03 3.01633435e+03 3.04427221e+03 3.07246884e+03\n",
      " 3.10092664e+03 3.12964801e+03 3.15863541e+03 3.18789129e+03\n",
      " 3.21741815e+03 3.24721849e+03 3.27729485e+03 3.30764978e+03\n",
      " 3.33828586e+03 3.36920571e+03 3.40041193e+03 3.43190720e+03\n",
      " 3.46369418e+03 3.49577557e+03 3.52815412e+03 3.56083255e+03\n",
      " 3.59381366e+03 3.62710025e+03 3.66069515e+03 3.69460121e+03\n",
      " 3.72882131e+03 3.76335836e+03 3.79821531e+03 3.83339510e+03\n",
      " 3.86890074e+03 3.90473524e+03 3.94090164e+03 3.97740302e+03\n",
      " 4.01424249e+03 4.05142317e+03 4.08894823e+03 4.12682085e+03\n",
      " 4.16504425e+03 4.20362168e+03 4.24255643e+03 4.28185180e+03\n",
      " 4.32151113e+03 4.36153779e+03 4.40193519e+03 4.44270675e+03\n",
      " 4.48385595e+03 4.52538628e+03 4.56730127e+03 4.60960449e+03\n",
      " 4.65229952e+03 4.69539001e+03 4.73887961e+03 4.78277202e+03\n",
      " 4.82707097e+03 4.87178022e+03 4.91690358e+03 4.96244488e+03\n",
      " 5.00840799e+03 5.05479682e+03 5.10161531e+03 5.14886745e+03\n",
      " 5.19655724e+03 5.24468875e+03 5.29326606e+03 5.34229330e+03\n",
      " 5.39177464e+03 5.44171429e+03 5.49211648e+03 5.54298552e+03\n",
      " 5.59432571e+03 5.64614142e+03 5.69843706e+03 5.75121707e+03\n",
      " 5.80448594e+03 5.85824820e+03 5.91250841e+03 5.96727120e+03\n",
      " 6.02254120e+03 6.07832313e+03 6.13462172e+03 6.19144176e+03\n",
      " 6.24878807e+03 6.30666554e+03 6.36507908e+03 6.42403366e+03\n",
      " 6.48353429e+03 6.54358602e+03 6.60419396e+03 6.66536327e+03\n",
      " 6.72709914e+03 6.78940681e+03 6.85229160e+03 6.91575883e+03\n",
      " 6.97981391e+03 7.04446228e+03 7.10970943e+03 7.17556092e+03\n",
      " 7.24202233e+03 7.30909933e+03 7.37679760e+03 7.44512291e+03\n",
      " 7.51408106e+03 7.58367791e+03 7.65391939e+03 7.72481145e+03\n",
      " 7.79636013e+03 7.86857151e+03 7.94145172e+03 8.01500696e+03\n",
      " 8.08924349e+03 8.16416760e+03 8.23978568e+03 8.31610415e+03\n",
      " 8.39312950e+03 8.47086827e+03 8.54932707e+03 8.62851257e+03\n",
      " 8.70843150e+03 8.78909065e+03 8.87049689e+03 8.95265713e+03\n",
      " 9.03557835e+03 9.11926760e+03 9.20373200e+03 9.28897872e+03\n",
      " 9.37501502e+03 9.46184819e+03 9.54948564e+03 9.63793480e+03\n",
      " 9.72720319e+03 9.81729841e+03 9.90822810e+03 1.00000000e+04]\n"
     ]
    }
   ],
   "source": [
    "vvals=np.logspace(np.log10(1.),np.log10(10.**4.),1000)\n",
    "print(vvals)"
   ]
  },
  {
   "cell_type": "code",
   "execution_count": 363,
   "metadata": {},
   "outputs": [
    {
     "name": "stdout",
     "output_type": "stream",
     "text": [
      "sigmaT [cm^2]=1.23891834839e-23\n",
      "sigmaT/m [cm^2/g]=0.0696021544039\n",
      "sigmaT*m [(cm^2/g) GeV^3]=69602.1544039\n"
     ]
    }
   ],
   "source": [
    "def sigmaTChu(mX,v,aa,ratio):\n",
    "    A=mX*(aa*fm_to_cm*GeV_to_cmminus1)*(v/c) #aa in GeV**(-1.)\n",
    "    B=ratio\n",
    "    #B=re/aa #re in GeV**(-1.)\n",
    "    term1=(1-(1./8.)*B*A**2.)**2.\n",
    "    term2=(1./4.)*A**2.\n",
    "    #print('[A,B,term1,term2]='+str([A,B,term1,term2]))\n",
    "    sigmaT=4.*np.pi*(aa*fm_to_cm)**2.*(term1+term2)**(-1.)\n",
    "    return sigmaT\n",
    "\n",
    "def sigmaT_over_mChu(mX,v,aa,ratio):\n",
    "    sigmaT_over_m=sigmaTChu(mX,v,aa,ratio)/(mX*GeV_to_g) #cm**2/g\n",
    "    return sigmaT_over_m\n",
    "\n",
    "def sigmaT_times_m2Chu(mX,v,aa,ratio):\n",
    "    sigmaT_times_m2=sigmaT_over_mChu(mX,v,aa,ratio)*mX**3. #cm**2/g*GeV**3.\n",
    "    return sigmaT_times_m2\n",
    "\n",
    "for mX in [10**2.]: #GeV\n",
    "    for v in [10.]: #km/s\n",
    "        for aa in [10.]: #fm\n",
    "            for ratio in [-1.]: \n",
    "                print('sigmaT [cm^2]='+str(sigmaTChu(mX,v,aa,ratio)))\n",
    "                print('sigmaT/m [cm^2/g]='+str(sigmaT_over_mChu(mX,v,aa,ratio)))\n",
    "                print('sigmaT*m [(cm^2/g) GeV^3]='+str(sigmaT_times_m2Chu(mX,v,aa,ratio)))"
   ]
  },
  {
   "cell_type": "code",
   "execution_count": 383,
   "metadata": {},
   "outputs": [
    {
     "name": "stdout",
     "output_type": "stream",
     "text": [
      "mphi=1.0\n",
      "(array([ 0.43418613, -1.93494387]), array([[ 4.80120110e-10, -9.11311449e-09],\n",
      "       [-9.11311449e-09,  4.89489823e-06]]))\n",
      "[aa,ratio,re,chi2]=[0.434186127693167, -1.9349438743493315, -0.8401257881073502, 121.19916682178544]\n"
     ]
    }
   ],
   "source": [
    "potential='attractive'\n",
    "alphaX=10.**(-2.)\n",
    "mX=100. #GeV\n",
    "#b=4.52\n",
    "#mphi=(alphaX*mX)/b\n",
    "mphi=1. #GeV\n",
    "print('mphi='+str(mphi))\n",
    "\n",
    "sigmaT_times_m2vals=np.array([sigmaT_times_m2(potential,alphaX,mX,mphi,v) for v in vvals])\n",
    "\n",
    "def sigmaT_times_m2Chufit(vvals,aa,ratio):\n",
    "    sigmaT_times_m2valsChu=np.array([sigmaT_times_m2Chu(mX,v,aa,ratio) for v in vvals])\n",
    "    return sigmaT_times_m2valsChu\n",
    "\n",
    "popt, pcov =curve_fit(sigmaT_times_m2Chufit,vvals,sigmaT_times_m2vals)\n",
    "print(popt, pcov)\n",
    "[aa,ratio]=popt\n",
    "re=ratio*aa\n",
    "sigmaT_times_m2valsChu=np.array([sigmaT_times_m2Chu(mX,v,aa,ratio) for v in vvals])\n",
    "chi2=sum(np.array(sigmaT_times_m2vals-sigmaT_times_m2valsChu)**2.)\n",
    "print('[aa,ratio,re,chi2]='+str([aa,ratio,re,chi2]))"
   ]
  },
  {
   "cell_type": "code",
   "execution_count": 385,
   "metadata": {},
   "outputs": [
    {
     "data": {
      "image/png": "[encoded data removed]",
      "text/plain": [
       "<Figure size 432x288 with 1 Axes>"
      ]
     },
     "metadata": {
      "needs_background": "light"
     },
     "output_type": "display_data"
    }
   ],
   "source": [
    "pl.plot(vvals,sigmaT_times_m2valsChu,label='fit')\n",
    "pl.plot(vvals,sigmaT_times_m2vals,label='Sean')\n",
    "pl.xscale('log')\n",
    "pl.yscale('log')\n",
    "pl.xlim([1,10.**4.])\n",
    "#pl.ylim([0.1,10.**9.])\n",
    "pl.xlabel(r'$v\\;{\\rm (km/s)}$',fontsize=fontsize) \n",
    "pl.ylabel(r'$\\sigma_T \\, m_{\\chi}^{2}\\;{\\rm (cm^{2}\\,g^{-1}\\,GeV^{3})}$',fontsize=fontsize) \n",
    "pl.legend(title=r'$m_{\\phi}=$'+str(mphi)+r'$\\,{\\rm GeV}$',bbox_to_anchor=[1.,1.],edgecolor='white',fontsize=legendfontsize)\n",
    "pl.show()"
   ]
  },
  {
   "cell_type": "code",
   "execution_count": 388,
   "metadata": {},
   "outputs": [
    {
     "data": {
      "image/png": "[encoded data removed]",
      "text/plain": [
       "<Figure size 432x288 with 1 Axes>"
      ]
     },
     "metadata": {
      "needs_background": "light"
     },
     "output_type": "display_data"
    }
   ],
   "source": [
    "pl.plot(vvals,(sigmaT_times_m2vals-sigmaT_times_m2valsChu)/sigmaT_times_m2valsChu)\n",
    "pl.xscale('log')\n",
    "#pl.yscale('log')\n",
    "pl.xlim([1,10.**4.])\n",
    "#pl.ylim([0.1,10.**9.])\n",
    "pl.xlabel(r'$v\\;{\\rm (km/s)}$',fontsize=fontsize) \n",
    "#pl.ylabel(r'$\\sigma_{T\\,{\\rm Sean}}-\\sigma_{T\\,{\\rm Chu}} \\, m_{\\chi}^{2}\\;{\\rm (cm^{2}\\,g^{-1}\\,GeV^{3})}$',fontsize=fontsize) \n",
    "pl.legend(title=r'$m_{\\phi}=$'+str(mphi)+r'$\\,{\\rm GeV}$',bbox_to_anchor=[1.,1.],edgecolor='white',fontsize=legendfontsize)\n",
    "pl.show()"
   ]
  },
  {
   "cell_type": "code",
   "execution_count": 389,
   "metadata": {},
   "outputs": [
    {
     "name": "stdout",
     "output_type": "stream",
     "text": [
      "mphi=0.001\n",
      "(array([100.        ,  99.99999991]), array([[ 1336975.25561751, -2714074.39760323],\n",
      "       [-2714074.39760323,  5538577.44157599]]))\n",
      "[aa,ratio,re,chi2]=[99.99999999609501, 99.99999991168782, 9999.999990778284, 1.09321228080978e+23]\n"
     ]
    }
   ],
   "source": [
    "potential='attractive'\n",
    "alphaX=10.**(-2.)\n",
    "mX=100. #GeV\n",
    "#b=4.52\n",
    "#mphi=(alphaX*mX)/b\n",
    "mphi=0.001 #GeV\n",
    "print('mphi='+str(mphi))\n",
    "\n",
    "sigmaT_times_m2vals=np.array([sigmaT_times_m2(potential,alphaX,mX,mphi,v) for v in vvals])\n",
    "\n",
    "def sigmaT_times_m2Chufit(vvals,aa,ratio):\n",
    "    sigmaT_times_m2valsChu=np.array([sigmaT_times_m2Chu(mX,v,aa,ratio) for v in vvals])\n",
    "    return sigmaT_times_m2valsChu\n",
    "\n",
    "popt, pcov =curve_fit(sigmaT_times_m2Chufit,vvals,sigmaT_times_m2vals,bounds=((0.,100.)),max_nfev=100)\n",
    "print(popt, pcov)\n",
    "[aa,ratio]=popt\n",
    "re=ratio*aa\n",
    "sigmaT_times_m2valsChu=np.array([sigmaT_times_m2Chu(mX,v,aa,ratio) for v in vvals])\n",
    "chi2=sum(np.array(sigmaT_times_m2vals-sigmaT_times_m2valsChu)**2.)\n",
    "print('[aa,ratio,re,chi2]='+str([aa,ratio,re,chi2]))"
   ]
  },
  {
   "cell_type": "code",
   "execution_count": 390,
   "metadata": {},
   "outputs": [
    {
     "data": {
      "image/png": "[encoded data removed]",
      "text/plain": [
       "<Figure size 432x288 with 1 Axes>"
      ]
     },
     "metadata": {
      "needs_background": "light"
     },
     "output_type": "display_data"
    }
   ],
   "source": [
    "pl.plot(vvals,sigmaT_times_m2valsChu,'.'.label='fit')\n",
    "pl.plot(vvals,sigmaT_times_m2vals,label='Sean')\n",
    "pl.xscale('log')\n",
    "pl.yscale('log')\n",
    "pl.xlim([1,10.**4.])\n",
    "#pl.ylim([0.1,10.**9.])\n",
    "pl.xlabel(r'$v\\;{\\rm (km/s)}$',fontsize=fontsize) \n",
    "pl.ylabel(r'$\\sigma_T \\, m_{\\chi}^{2}\\;{\\rm (cm^{2}\\,g^{-1}\\,GeV^{3})}$',fontsize=fontsize) \n",
    "pl.legend(title=r'$m_{\\phi}=$'+str(mphi)+r'$\\,{\\rm GeV}$',bbox_to_anchor=[1.,1.],edgecolor='white',fontsize=legendfontsize)\n",
    "pl.show()"
   ]
  },
  {
   "cell_type": "code",
   "execution_count": 376,
   "metadata": {},
   "outputs": [
    {
     "name": "stdout",
     "output_type": "stream",
     "text": [
      "[1.00000000e-02 1.00926219e-02 1.01861017e-02 1.02804473e-02\n",
      " 1.03756668e-02 1.04717682e-02 1.05687597e-02 1.06666496e-02\n",
      " 1.07654461e-02 1.08651577e-02 1.09657929e-02 1.10673602e-02\n",
      " 1.11698682e-02 1.12733256e-02 1.13777413e-02 1.14831241e-02\n",
      " 1.15894830e-02 1.16968270e-02 1.18051653e-02 1.19145070e-02\n",
      " 1.20248614e-02 1.21362380e-02 1.22486461e-02 1.23620954e-02\n",
      " 1.24765955e-02 1.25921561e-02 1.27087871e-02 1.28264983e-02\n",
      " 1.29452998e-02 1.30652016e-02 1.31862140e-02 1.33083472e-02\n",
      " 1.34316117e-02 1.35560179e-02 1.36815763e-02 1.38082977e-02\n",
      " 1.39361927e-02 1.40652724e-02 1.41955477e-02 1.43270295e-02\n",
      " 1.44597292e-02 1.45936580e-02 1.47288272e-02 1.48652484e-02\n",
      " 1.50029332e-02 1.51418933e-02 1.52821404e-02 1.54236865e-02\n",
      " 1.55665436e-02 1.57107239e-02 1.58562396e-02 1.60031031e-02\n",
      " 1.61513269e-02 1.63009236e-02 1.64519059e-02 1.66042866e-02\n",
      " 1.67580786e-02 1.69132952e-02 1.70699493e-02 1.72280545e-02\n",
      " 1.73876240e-02 1.75486715e-02 1.77112106e-02 1.78752553e-02\n",
      " 1.80408193e-02 1.82079168e-02 1.83765620e-02 1.85467692e-02\n",
      " 1.87185529e-02 1.88919278e-02 1.90669084e-02 1.92435098e-02\n",
      " 1.94217468e-02 1.96016347e-02 1.97831888e-02 1.99664245e-02\n",
      " 2.01513573e-02 2.03380031e-02 2.05263775e-02 2.07164968e-02\n",
      " 2.09083769e-02 2.11020343e-02 2.12974854e-02 2.14947467e-02\n",
      " 2.16938352e-02 2.18947676e-02 2.20975611e-02 2.23022330e-02\n",
      " 2.25088005e-02 2.27172813e-02 2.29276931e-02 2.31400538e-02\n",
      " 2.33543814e-02 2.35706941e-02 2.37890104e-02 2.40093488e-02\n",
      " 2.42317279e-02 2.44561668e-02 2.46826845e-02 2.49113003e-02\n",
      " 2.51420335e-02 2.53749038e-02 2.56099310e-02 2.58471351e-02\n",
      " 2.60865362e-02 2.63281547e-02 2.65720111e-02 2.68181261e-02\n",
      " 2.70665207e-02 2.73172160e-02 2.75702333e-02 2.78255940e-02\n",
      " 2.80833200e-02 2.83434331e-02 2.86059554e-02 2.88709092e-02\n",
      " 2.91383170e-02 2.94082017e-02 2.96805861e-02 2.99554933e-02\n",
      " 3.02329468e-02 3.05129702e-02 3.07955871e-02 3.10808217e-02\n",
      " 3.13686982e-02 3.16592411e-02 3.19524751e-02 3.22484250e-02\n",
      " 3.25471161e-02 3.28485737e-02 3.31528234e-02 3.34598912e-02\n",
      " 3.37698031e-02 3.40825855e-02 3.43982649e-02 3.47168682e-02\n",
      " 3.50384225e-02 3.53629550e-02 3.56904935e-02 3.60210656e-02\n",
      " 3.63546996e-02 3.66914238e-02 3.70312668e-02 3.73742574e-02\n",
      " 3.77204249e-02 3.80697987e-02 3.84224085e-02 3.87782841e-02\n",
      " 3.91374560e-02 3.94999546e-02 3.98658107e-02 4.02350555e-02\n",
      " 4.06077203e-02 4.09838367e-02 4.13634368e-02 4.17465529e-02\n",
      " 4.21332174e-02 4.25234633e-02 4.29173238e-02 4.33148322e-02\n",
      " 4.37160225e-02 4.41209286e-02 4.45295851e-02 4.49420266e-02\n",
      " 4.53582883e-02 4.57784054e-02 4.62024137e-02 4.66303493e-02\n",
      " 4.70622485e-02 4.74981480e-02 4.79380850e-02 4.83820966e-02\n",
      " 4.88302209e-02 4.92824957e-02 4.97389596e-02 5.01996513e-02\n",
      " 5.06646101e-02 5.11338754e-02 5.16074871e-02 5.20854855e-02\n",
      " 5.25679112e-02 5.30548053e-02 5.35462090e-02 5.40421642e-02\n",
      " 5.45427131e-02 5.50478981e-02 5.55577622e-02 5.60723488e-02\n",
      " 5.65917016e-02 5.71158648e-02 5.76448828e-02 5.81788007e-02\n",
      " 5.87176639e-02 5.92615181e-02 5.98104096e-02 6.03643851e-02\n",
      " 6.09234915e-02 6.14877765e-02 6.20572881e-02 6.26320745e-02\n",
      " 6.32121848e-02 6.37976681e-02 6.43885743e-02 6.49849535e-02\n",
      " 6.55868566e-02 6.61943346e-02 6.68074392e-02 6.74262224e-02\n",
      " 6.80507370e-02 6.86810359e-02 6.93171728e-02 6.99592017e-02\n",
      " 7.06071771e-02 7.12611543e-02 7.19211887e-02 7.25873365e-02\n",
      " 7.32596543e-02 7.39381992e-02 7.46230289e-02 7.53142017e-02\n",
      " 7.60117762e-02 7.67158118e-02 7.74263683e-02 7.81435061e-02\n",
      " 7.88672862e-02 7.95977700e-02 8.03350198e-02 8.10790981e-02\n",
      " 8.18300682e-02 8.25879939e-02 8.33529397e-02 8.41249705e-02\n",
      " 8.49041520e-02 8.56905505e-02 8.64842328e-02 8.72852662e-02\n",
      " 8.80937190e-02 8.89096599e-02 8.97331581e-02 9.05642838e-02\n",
      " 9.14031075e-02 9.22497005e-02 9.31041349e-02 9.39664831e-02\n",
      " 9.48368187e-02 9.57152154e-02 9.66017480e-02 9.74964918e-02\n",
      " 9.83995230e-02 9.93109181e-02 1.00230755e-01 1.01159111e-01\n",
      " 1.02096066e-01 1.03041699e-01 1.03996091e-01 1.04959323e-01\n",
      " 1.05931476e-01 1.06912634e-01 1.07902879e-01 1.08902296e-01\n",
      " 1.09910970e-01 1.10928986e-01 1.11956432e-01 1.12993394e-01\n",
      " 1.14039960e-01 1.15096220e-01 1.16162263e-01 1.17238180e-01\n",
      " 1.18324063e-01 1.19420003e-01 1.20526094e-01 1.21642429e-01\n",
      " 1.22769105e-01 1.23906216e-01 1.25053859e-01 1.26212131e-01\n",
      " 1.27381132e-01 1.28560961e-01 1.29751717e-01 1.30953502e-01\n",
      " 1.32166418e-01 1.33390569e-01 1.34626058e-01 1.35872990e-01\n",
      " 1.37131472e-01 1.38401610e-01 1.39683512e-01 1.40977287e-01\n",
      " 1.42283046e-01 1.43600898e-01 1.44930957e-01 1.46273336e-01\n",
      " 1.47628147e-01 1.48995507e-01 1.50375532e-01 1.51768339e-01\n",
      " 1.53174046e-01 1.54592774e-01 1.56024641e-01 1.57469771e-01\n",
      " 1.58928287e-01 1.60400311e-01 1.61885969e-01 1.63385388e-01\n",
      " 1.64898694e-01 1.66426018e-01 1.67967487e-01 1.69523234e-01\n",
      " 1.71093391e-01 1.72678090e-01 1.74277468e-01 1.75891659e-01\n",
      " 1.77520801e-01 1.79165033e-01 1.80824493e-01 1.82499324e-01\n",
      " 1.84189668e-01 1.85895668e-01 1.87617469e-01 1.89355218e-01\n",
      " 1.91109062e-01 1.92879151e-01 1.94665634e-01 1.96468665e-01\n",
      " 1.98288395e-01 2.00124980e-01 2.01978576e-01 2.03849340e-01\n",
      " 2.05737431e-01 2.07643011e-01 2.09566240e-01 2.11507282e-01\n",
      " 2.13466303e-01 2.15443469e-01 2.17438948e-01 2.19452909e-01\n",
      " 2.21485523e-01 2.23536965e-01 2.25607407e-01 2.27697026e-01\n",
      " 2.29805999e-01 2.31934506e-01 2.34082728e-01 2.36250847e-01\n",
      " 2.38439047e-01 2.40647515e-01 2.42876438e-01 2.45126006e-01\n",
      " 2.47396410e-01 2.49687843e-01 2.52000499e-01 2.54334576e-01\n",
      " 2.56690272e-01 2.59067786e-01 2.61467321e-01 2.63889081e-01\n",
      " 2.66333273e-01 2.68800102e-01 2.71289780e-01 2.73802518e-01\n",
      " 2.76338529e-01 2.78898029e-01 2.81481236e-01 2.84088369e-01\n",
      " 2.86719650e-01 2.89375302e-01 2.92055551e-01 2.94760626e-01\n",
      " 2.97490755e-01 3.00246171e-01 3.03027108e-01 3.05833803e-01\n",
      " 3.08666494e-01 3.11525422e-01 3.14410830e-01 3.17322963e-01\n",
      " 3.20262069e-01 3.23228398e-01 3.26222201e-01 3.29243733e-01\n",
      " 3.32293252e-01 3.35371015e-01 3.38477286e-01 3.41612327e-01\n",
      " 3.44776405e-01 3.47969790e-01 3.51192753e-01 3.54445567e-01\n",
      " 3.57728510e-01 3.61041860e-01 3.64385898e-01 3.67760910e-01\n",
      " 3.71167182e-01 3.74605003e-01 3.78074666e-01 3.81576466e-01\n",
      " 3.85110700e-01 3.88677669e-01 3.92277676e-01 3.95911027e-01\n",
      " 3.99578030e-01 4.03278998e-01 4.07014245e-01 4.10784089e-01\n",
      " 4.14588850e-01 4.18428851e-01 4.22304419e-01 4.26215883e-01\n",
      " 4.30163576e-01 4.34147833e-01 4.38168993e-01 4.42227398e-01\n",
      " 4.46323393e-01 4.50457325e-01 4.54629547e-01 4.58840413e-01\n",
      " 4.63090280e-01 4.67379511e-01 4.71708469e-01 4.76077523e-01\n",
      " 4.80487044e-01 4.84937407e-01 4.89428990e-01 4.93962174e-01\n",
      " 4.98537346e-01 5.03154895e-01 5.07815211e-01 5.12518693e-01\n",
      " 5.17265739e-01 5.22056753e-01 5.26892142e-01 5.31772318e-01\n",
      " 5.36697695e-01 5.41668691e-01 5.46685730e-01 5.51749238e-01\n",
      " 5.56859644e-01 5.62017385e-01 5.67222897e-01 5.72476624e-01\n",
      " 5.77779012e-01 5.83130511e-01 5.88531578e-01 5.93982669e-01\n",
      " 5.99484250e-01 6.05036788e-01 6.10640754e-01 6.16296626e-01\n",
      " 6.22004883e-01 6.27766011e-01 6.33580499e-01 6.39448843e-01\n",
      " 6.45371540e-01 6.51349095e-01 6.57382014e-01 6.63470812e-01\n",
      " 6.69616005e-01 6.75818117e-01 6.82077673e-01 6.88395207e-01\n",
      " 6.94771255e-01 7.01206359e-01 7.07701066e-01 7.14255929e-01\n",
      " 7.20871503e-01 7.27548353e-01 7.34287045e-01 7.41088152e-01\n",
      " 7.47952252e-01 7.54879928e-01 7.61871770e-01 7.68928372e-01\n",
      " 7.76050334e-01 7.83238260e-01 7.90492762e-01 7.97814457e-01\n",
      " 8.05203967e-01 8.12661920e-01 8.20188950e-01 8.27785697e-01\n",
      " 8.35452806e-01 8.43190929e-01 8.51000725e-01 8.58882856e-01\n",
      " 8.66837993e-01 8.74866812e-01 8.82969996e-01 8.91148232e-01\n",
      " 8.99402217e-01 9.07732653e-01 9.16140246e-01 9.24625712e-01\n",
      " 9.33189772e-01 9.41833153e-01 9.50556592e-01 9.59360829e-01\n",
      " 9.68246612e-01 9.77214697e-01 9.86265846e-01 9.95400829e-01\n",
      " 1.00462042e+00 1.01392541e+00 1.02331658e+00 1.03279473e+00\n",
      " 1.04236067e+00 1.05201522e+00 1.06175918e+00 1.07159340e+00\n",
      " 1.08151870e+00 1.09153594e+00 1.10164595e+00 1.11184960e+00\n",
      " 1.12214777e+00 1.13254132e+00 1.14303113e+00 1.15361810e+00\n",
      " 1.16430313e+00 1.17508713e+00 1.18597101e+00 1.19695570e+00\n",
      " 1.20804213e+00 1.21923125e+00 1.23052400e+00 1.24192135e+00\n",
      " 1.25342427e+00 1.26503372e+00 1.27675070e+00 1.28857621e+00\n",
      " 1.30051125e+00 1.31255684e+00 1.32471399e+00 1.33698374e+00\n",
      " 1.34936714e+00 1.36186524e+00 1.37447909e+00 1.38720978e+00\n",
      " 1.40005838e+00 1.41302599e+00 1.42611371e+00 1.43932264e+00\n",
      " 1.45265393e+00 1.46610868e+00 1.47968806e+00 1.49339322e+00\n",
      " 1.50722531e+00 1.52118552e+00 1.53527503e+00 1.54949504e+00\n",
      " 1.56384676e+00 1.57833141e+00 1.59295021e+00 1.60770442e+00\n",
      " 1.62259529e+00 1.63762407e+00 1.65279206e+00 1.66810054e+00\n",
      " 1.68355080e+00 1.69914417e+00 1.71488197e+00 1.73076553e+00\n",
      " 1.74679622e+00 1.76297538e+00 1.77930439e+00 1.79578465e+00\n",
      " 1.81241755e+00 1.82920450e+00 1.84614695e+00 1.86324631e+00\n",
      " 1.88050406e+00 1.89792164e+00 1.91550056e+00 1.93324229e+00\n",
      " 1.95114835e+00 1.96922026e+00 1.98745955e+00 2.00586778e+00\n",
      " 2.02444651e+00 2.04319732e+00 2.06212180e+00 2.08122157e+00\n",
      " 2.10049824e+00 2.11995346e+00 2.13958887e+00 2.15940615e+00\n",
      " 2.17940698e+00 2.19959307e+00 2.21996612e+00 2.24052787e+00\n",
      " 2.26128007e+00 2.28222447e+00 2.30336287e+00 2.32469706e+00\n",
      " 2.34622885e+00 2.36796007e+00 2.38989257e+00 2.41202821e+00\n",
      " 2.43436887e+00 2.45691646e+00 2.47967289e+00 2.50264010e+00\n",
      " 2.52582003e+00 2.54921465e+00 2.57282597e+00 2.59665597e+00\n",
      " 2.62070670e+00 2.64498018e+00 2.66947849e+00 2.69420371e+00\n",
      " 2.71915794e+00 2.74434330e+00 2.76976194e+00 2.79541600e+00\n",
      " 2.82130768e+00 2.84743917e+00 2.87381269e+00 2.90043049e+00\n",
      " 2.92729484e+00 2.95440800e+00 2.98177229e+00 3.00939003e+00\n",
      " 3.03726358e+00 3.06539530e+00 3.09378757e+00 3.12244282e+00\n",
      " 3.15136348e+00 3.18055202e+00 3.21001090e+00 3.23974263e+00\n",
      " 3.26974974e+00 3.30003479e+00 3.33060034e+00 3.36144900e+00\n",
      " 3.39258338e+00 3.42400614e+00 3.45571994e+00 3.48772747e+00\n",
      " 3.52003147e+00 3.55263468e+00 3.58553986e+00 3.61874981e+00\n",
      " 3.65226736e+00 3.68609536e+00 3.72023668e+00 3.75469422e+00\n",
      " 3.78947092e+00 3.82456972e+00 3.85999362e+00 3.89574562e+00\n",
      " 3.93182876e+00 3.96824610e+00 4.00500076e+00 4.04209584e+00\n",
      " 4.07953450e+00 4.11731993e+00 4.15545533e+00 4.19394396e+00\n",
      " 4.23278907e+00 4.27199397e+00 4.31156199e+00 4.35149650e+00\n",
      " 4.39180089e+00 4.43247859e+00 4.47353305e+00 4.51496777e+00\n",
      " 4.55678627e+00 4.59899209e+00 4.64158883e+00 4.68458012e+00\n",
      " 4.72796959e+00 4.77176095e+00 4.81595791e+00 4.86056423e+00\n",
      " 4.90558371e+00 4.95102016e+00 4.99687745e+00 5.04315949e+00\n",
      " 5.08987019e+00 5.13701354e+00 5.18459354e+00 5.23261424e+00\n",
      " 5.28107971e+00 5.32999408e+00 5.37936150e+00 5.42918618e+00\n",
      " 5.47947234e+00 5.53022426e+00 5.58144625e+00 5.63314267e+00\n",
      " 5.68531791e+00 5.73797641e+00 5.79112265e+00 5.84476113e+00\n",
      " 5.89889643e+00 5.95353313e+00 6.00867589e+00 6.06432940e+00\n",
      " 6.12049837e+00 6.17718760e+00 6.23440189e+00 6.29214611e+00\n",
      " 6.35042517e+00 6.40924402e+00 6.46860766e+00 6.52852114e+00\n",
      " 6.58898955e+00 6.65001803e+00 6.71161177e+00 6.77377600e+00\n",
      " 6.83651600e+00 6.89983712e+00 6.96374473e+00 7.02824426e+00\n",
      " 7.09334120e+00 7.15904109e+00 7.22534949e+00 7.29227206e+00\n",
      " 7.35981448e+00 7.42798248e+00 7.49678187e+00 7.56621850e+00\n",
      " 7.63629826e+00 7.70702711e+00 7.77841107e+00 7.85045620e+00\n",
      " 7.92316862e+00 7.99655453e+00 8.07062014e+00 8.14537177e+00\n",
      " 8.22081576e+00 8.29695852e+00 8.37380654e+00 8.45136633e+00\n",
      " 8.52964450e+00 8.60864770e+00 8.68838264e+00 8.76885609e+00\n",
      " 8.85007491e+00 8.93204600e+00 9.01477631e+00 9.09827289e+00\n",
      " 9.18254284e+00 9.26759330e+00 9.35343152e+00 9.44006479e+00\n",
      " 9.52750047e+00 9.61574600e+00 9.70480888e+00 9.79469667e+00\n",
      " 9.88541702e+00 9.97697764e+00 1.00693863e+01 1.01626509e+01\n",
      " 1.02567793e+01 1.03517796e+01 1.04476597e+01 1.05444279e+01\n",
      " 1.06420924e+01 1.07406615e+01 1.08401436e+01 1.09405471e+01\n",
      " 1.10418805e+01 1.11441525e+01 1.12473718e+01 1.13515471e+01\n",
      " 1.14566873e+01 1.15628013e+01 1.16698982e+01 1.17779870e+01\n",
      " 1.18870770e+01 1.19971774e+01 1.21082975e+01 1.22204469e+01\n",
      " 1.23336350e+01 1.24478715e+01 1.25631660e+01 1.26795285e+01\n",
      " 1.27969687e+01 1.29154967e+01 1.30351224e+01 1.31558562e+01\n",
      " 1.32777083e+01 1.34006890e+01 1.35248087e+01 1.36500781e+01\n",
      " 1.37765077e+01 1.39041083e+01 1.40328908e+01 1.41628662e+01\n",
      " 1.42940453e+01 1.44264395e+01 1.45600600e+01 1.46949180e+01\n",
      " 1.48310251e+01 1.49683929e+01 1.51070330e+01 1.52469573e+01\n",
      " 1.53881775e+01 1.55307057e+01 1.56745541e+01 1.58197348e+01\n",
      " 1.59662602e+01 1.61141428e+01 1.62633950e+01 1.64140297e+01\n",
      " 1.65660596e+01 1.67194976e+01 1.68743568e+01 1.70306503e+01\n",
      " 1.71883914e+01 1.73475936e+01 1.75082703e+01 1.76704353e+01\n",
      " 1.78341022e+01 1.79992851e+01 1.81659979e+01 1.83342548e+01\n",
      " 1.85040702e+01 1.86754584e+01 1.88484341e+01 1.90230119e+01\n",
      " 1.91992067e+01 1.93770334e+01 1.95565072e+01 1.97376433e+01\n",
      " 1.99204571e+01 2.01049642e+01 2.02911802e+01 2.04791210e+01\n",
      " 2.06688025e+01 2.08602409e+01 2.10534524e+01 2.12484535e+01\n",
      " 2.14452608e+01 2.16438909e+01 2.18443607e+01 2.20466874e+01\n",
      " 2.22508880e+01 2.24569800e+01 2.26649808e+01 2.28749082e+01\n",
      " 2.30867799e+01 2.33006141e+01 2.35164288e+01 2.37342425e+01\n",
      " 2.39540736e+01 2.41759408e+01 2.43998630e+01 2.46258592e+01\n",
      " 2.48539486e+01 2.50841506e+01 2.53164848e+01 2.55509709e+01\n",
      " 2.57876289e+01 2.60264788e+01 2.62675410e+01 2.65108360e+01\n",
      " 2.67563844e+01 2.70042072e+01 2.72543253e+01 2.75067601e+01\n",
      " 2.77615329e+01 2.80186656e+01 2.82781798e+01 2.85400977e+01\n",
      " 2.88044415e+01 2.90712338e+01 2.93404971e+01 2.96122544e+01\n",
      " 2.98865287e+01 3.01633435e+01 3.04427221e+01 3.07246884e+01\n",
      " 3.10092664e+01 3.12964801e+01 3.15863541e+01 3.18789129e+01\n",
      " 3.21741815e+01 3.24721849e+01 3.27729485e+01 3.30764978e+01\n",
      " 3.33828586e+01 3.36920571e+01 3.40041193e+01 3.43190720e+01\n",
      " 3.46369418e+01 3.49577557e+01 3.52815412e+01 3.56083255e+01\n",
      " 3.59381366e+01 3.62710025e+01 3.66069515e+01 3.69460121e+01\n",
      " 3.72882131e+01 3.76335836e+01 3.79821531e+01 3.83339510e+01\n",
      " 3.86890074e+01 3.90473524e+01 3.94090164e+01 3.97740302e+01\n",
      " 4.01424249e+01 4.05142317e+01 4.08894823e+01 4.12682085e+01\n",
      " 4.16504425e+01 4.20362168e+01 4.24255643e+01 4.28185180e+01\n",
      " 4.32151113e+01 4.36153779e+01 4.40193519e+01 4.44270675e+01\n",
      " 4.48385595e+01 4.52538628e+01 4.56730127e+01 4.60960449e+01\n",
      " 4.65229952e+01 4.69539001e+01 4.73887961e+01 4.78277202e+01\n",
      " 4.82707097e+01 4.87178022e+01 4.91690358e+01 4.96244488e+01\n",
      " 5.00840799e+01 5.05479682e+01 5.10161531e+01 5.14886745e+01\n",
      " 5.19655724e+01 5.24468875e+01 5.29326606e+01 5.34229330e+01\n",
      " 5.39177464e+01 5.44171429e+01 5.49211648e+01 5.54298552e+01\n",
      " 5.59432571e+01 5.64614142e+01 5.69843706e+01 5.75121707e+01\n",
      " 5.80448594e+01 5.85824820e+01 5.91250841e+01 5.96727120e+01\n",
      " 6.02254120e+01 6.07832313e+01 6.13462172e+01 6.19144176e+01\n",
      " 6.24878807e+01 6.30666554e+01 6.36507908e+01 6.42403366e+01\n",
      " 6.48353429e+01 6.54358602e+01 6.60419396e+01 6.66536327e+01\n",
      " 6.72709914e+01 6.78940681e+01 6.85229160e+01 6.91575883e+01\n",
      " 6.97981391e+01 7.04446228e+01 7.10970943e+01 7.17556092e+01\n",
      " 7.24202233e+01 7.30909933e+01 7.37679760e+01 7.44512291e+01\n",
      " 7.51408106e+01 7.58367791e+01 7.65391939e+01 7.72481145e+01\n",
      " 7.79636013e+01 7.86857151e+01 7.94145172e+01 8.01500696e+01\n",
      " 8.08924349e+01 8.16416760e+01 8.23978568e+01 8.31610415e+01\n",
      " 8.39312950e+01 8.47086827e+01 8.54932707e+01 8.62851257e+01\n",
      " 8.70843150e+01 8.78909065e+01 8.87049689e+01 8.95265713e+01\n",
      " 9.03557835e+01 9.11926760e+01 9.20373200e+01 9.28897872e+01\n",
      " 9.37501502e+01 9.46184819e+01 9.54948564e+01 9.63793480e+01\n",
      " 9.72720319e+01 9.81729841e+01 9.90822810e+01 1.00000000e+02]\n"
     ]
    }
   ],
   "source": [
    "vvals=np.logspace(np.log10(10.**(-2.)),np.log10(10.**2.),1000)\n",
    "print(vvals)"
   ]
  },
  {
   "cell_type": "code",
   "execution_count": 377,
   "metadata": {},
   "outputs": [
    {
     "name": "stdout",
     "output_type": "stream",
     "text": [
      "mphi=1.0\n",
      "(array([ 0.42182547, 83.96480073]), array([[ 1.97953847e-06, -1.42708451e-02],\n",
      "       [-1.42708451e-02,  8.21572293e+02]]))\n",
      "[aa,ratio,re,chi2]=[0.4218254724080789, 83.96480073340688, 35.418491735019565, 628989.639856394]\n"
     ]
    }
   ],
   "source": [
    "potential='attractive'\n",
    "alphaX=10.**(-2.)\n",
    "mX=100. #GeV\n",
    "#b=4.52\n",
    "#mphi=(alphaX*mX)/b\n",
    "mphi=1. #GeV\n",
    "print('mphi='+str(mphi))\n",
    "\n",
    "sigmaT_times_m2vals=np.array([sigmaT_times_m2(potential,alphaX,mX,mphi,v) for v in vvals])\n",
    "\n",
    "def sigmaT_times_m2Chufit(vvals,aa,ratio):\n",
    "    sigmaT_times_m2valsChu=np.array([sigmaT_times_m2Chu(mX,v,aa,ratio) for v in vvals])\n",
    "    return sigmaT_times_m2valsChu\n",
    "\n",
    "popt, pcov =curve_fit(sigmaT_times_m2Chufit,vvals,sigmaT_times_m2vals)\n",
    "print(popt, pcov)\n",
    "[aa,ratio]=popt\n",
    "re=ratio*aa\n",
    "sigmaT_times_m2valsChu=np.array([sigmaT_times_m2Chu(mX,v,aa,ratio) for v in vvals])\n",
    "chi2=sum(np.array(sigmaT_times_m2vals-sigmaT_times_m2valsChu)**2.)\n",
    "print('[aa,ratio,re,chi2]='+str([aa,ratio,re,chi2]))"
   ]
  },
  {
   "cell_type": "code",
   "execution_count": 378,
   "metadata": {},
   "outputs": [
    {
     "data": {
      "image/png": "[encoded data removed]",
      "text/plain": [
       "<Figure size 432x288 with 1 Axes>"
      ]
     },
     "metadata": {
      "needs_background": "light"
     },
     "output_type": "display_data"
    }
   ],
   "source": [
    "pl.plot(vvals,sigmaT_times_m2valsChu,label='fit')\n",
    "pl.plot(vvals,sigmaT_times_m2vals,label='Sean')\n",
    "pl.xscale('log')\n",
    "pl.yscale('log')\n",
    "pl.xlim([1,10.**4.])\n",
    "#pl.ylim([0.1,10.**9.])\n",
    "pl.xlabel(r'$v\\;{\\rm (km/s)}$',fontsize=fontsize) \n",
    "pl.ylabel(r'$\\sigma_T \\, m_{\\chi}^{2}\\;{\\rm (cm^{2}\\,g^{-1}\\,GeV^{3})}$',fontsize=fontsize) \n",
    "pl.legend(title=r'$m_{\\phi}=$'+str(mphi)+r'$\\,{\\rm GeV}$',bbox_to_anchor=[1.,1.],edgecolor='white',fontsize=legendfontsize)\n",
    "pl.show()"
   ]
  },
  {
   "cell_type": "code",
   "execution_count": null,
   "metadata": {},
   "outputs": [],
   "source": []
  }
 ],
 "metadata": {
  "kernelspec": {
   "display_name": "Python 2",
   "language": "python",
   "name": "python2"
  },
  "language_info": {
   "codemirror_mode": {
    "name": "ipython",
    "version": 2
   },
   "file_extension": ".py",
   "mimetype": "text/x-python",
   "name": "python",
   "nbconvert_exporter": "python",
   "pygments_lexer": "ipython2",
   "version": "2.7.16"
  }
 },
 "nbformat": 4,
 "nbformat_minor": 2
}
